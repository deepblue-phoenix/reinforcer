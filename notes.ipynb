{
 "cells": [
  {
   "cell_type": "markdown",
   "metadata": {},
   "source": [
    "### Notes: \n",
    "\n"
   ]
  },
  {
   "cell_type": "code",
   "execution_count": null,
   "metadata": {},
   "outputs": [],
   "source": []
  },
  {
   "cell_type": "markdown",
   "metadata": {},
   "source": [
    "# french class: \n",
    "https://m2dsupsdlclass.github.io/lectures-labs/"
   ]
  },
  {
   "cell_type": "code",
   "execution_count": null,
   "metadata": {},
   "outputs": [],
   "source": []
  },
  {
   "cell_type": "markdown",
   "metadata": {},
   "source": [
    "notes on back-prop. derivations: \n",
    "\n",
    "https://www.kamperh.com/notes/kamper_backprop17.pdf"
   ]
  },
  {
   "cell_type": "markdown",
   "metadata": {},
   "source": [
    "detailed implementation in python: forward and backward passes: \n",
    "        \n",
    "http://neuralnetworksanddeeplearning.com/chap2.html"
   ]
  },
  {
   "cell_type": "code",
   "execution_count": null,
   "metadata": {},
   "outputs": [],
   "source": []
  },
  {
   "cell_type": "code",
   "execution_count": null,
   "metadata": {},
   "outputs": [],
   "source": [
    "\n",
    "# this is very important; \n",
    "# size specifies only one dimension \n",
    "# so numpy creates a vector; \n",
    "# e.g. (3, 1) is still treated as a matrix and affects MUL\n",
    "# but (3, ) is a vector!\n",
    "# so the following is wrong\n",
    "# bias = np.random.uniform(low=low, high=high, size=(number_of_neurons, 1))\n",
    "# but this is correct:\n",
    "\n",
    "bias = np.random.uniform(low=low, high=high, size=(number_of_neurons, ))"
   ]
  }
 ],
 "metadata": {
  "kernelspec": {
   "display_name": "Python 3",
   "language": "python",
   "name": "python3"
  },
  "language_info": {
   "codemirror_mode": {
    "name": "ipython",
    "version": 3
   },
   "file_extension": ".py",
   "mimetype": "text/x-python",
   "name": "python",
   "nbconvert_exporter": "python",
   "pygments_lexer": "ipython3",
   "version": "3.7.5"
  }
 },
 "nbformat": 4,
 "nbformat_minor": 2
}
