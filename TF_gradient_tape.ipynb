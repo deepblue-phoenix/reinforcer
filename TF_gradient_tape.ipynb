{
 "cells": [
  {
   "cell_type": "code",
   "execution_count": 2,
   "metadata": {},
   "outputs": [],
   "source": [
    "import numpy as np\n",
    "import tensorflow as tf\n",
    "\n",
    "import matplotlib.pyplot as plt"
   ]
  },
  {
   "cell_type": "code",
   "execution_count": 4,
   "metadata": {},
   "outputs": [
    {
     "name": "stdout",
     "output_type": "stream",
     "text": [
      "3.0\n"
     ]
    }
   ],
   "source": [
    "sess = tf.compat.v1.Session()\n",
    "\n",
    "c = tf.constant(3.0)\n",
    "print(sess.run(c))"
   ]
  },
  {
   "cell_type": "code",
   "execution_count": 24,
   "metadata": {},
   "outputs": [
    {
     "data": {
      "text/plain": [
       "[<matplotlib.lines.Line2D at 0x7f3fbc151d90>]"
      ]
     },
     "execution_count": 24,
     "metadata": {},
     "output_type": "execute_result"
    },
    {
     "data": {
      "image/png": "[encoded data removed]",
      "text/plain": [
       "<Figure size 432x288 with 1 Axes>"
      ]
     },
     "metadata": {
      "needs_background": "light"
     },
     "output_type": "display_data"
    }
   ],
   "source": [
    "x = np.linspace(-2, 2, 1000)\n",
    "y = np.linspace(-2, 2, 1000)\n",
    "# print(x)\n",
    "\n",
    "plt.grid(True)\n",
    "plt.plot(x,y,'g')"
   ]
  },
  {
   "cell_type": "code",
   "execution_count": 12,
   "metadata": {},
   "outputs": [],
   "source": [
    "\n",
    "import math\n",
    "import numpy as np\n",
    "e = math.e\n",
    "    \n",
    "def run_step(p_x, p_type_str):\n",
    "    x = tf.constant(float(p_x))\n",
    "\n",
    "    # @tf.function \n",
    "    def t(p_x):\n",
    "        \n",
    "        if p_type_str == \"sigmoid\":\n",
    "            # sigmoid activation fun - 1/(1+e^-x)\n",
    "            y = 1/(1 + e**-p_x)\n",
    "            # y = tf.math.sigmoid(i)\n",
    "        \n",
    "        elif p_type_str == \"tanh\":\n",
    "            # hyperbolic tangent fun - (e^x - e^-x)/(e^x+e^-x)\n",
    "            y = (e**p_x - e**-p_x) / (e**p_x + e**-p_x)\n",
    "            # y = tf.math.tanh(p_x)\n",
    "        \n",
    "        elif p_type_str == \"relu\":\n",
    "            # ReLU - Rectified Linear Unit - max(0, x)\n",
    "            if sess.run(p_x) > 0: y = p_x\n",
    "            else:                 y = 0.0 * p_x\n",
    "            # y = tf.nn.relu(p_x)\n",
    "        \n",
    "        return y\n",
    "        \n",
    "    \n",
    "\n",
    "    with tf.GradientTape() as g:\n",
    "        g.watch(x)\n",
    "        # g.watch(y)\n",
    "        \n",
    "        # y = tf.math.sigmoid(x)\n",
    "        # y = tf.py_function(func=t, inp=[p_x], Tout=tf.float32) # (e**p_x - e**-p_x) / (e**p_x + e**-p_x)\n",
    "        y = t(x)\n",
    "        \n",
    "        target = y # tf.convert_to_tensor(y)\n",
    "        source = x\n",
    "        dy_dx  = g.gradient(target, source)\n",
    "    return y, dy_dx"
   ]
  },
  {
   "cell_type": "code",
   "execution_count": 13,
   "metadata": {},
   "outputs": [
    {
     "name": "stdout",
     "output_type": "stream",
     "text": [
      "WARNING:tensorflow:From /home/ivan/.local/lib/python3.7/site-packages/tensorflow_core/python/ops/math_grad.py:1375: where (from tensorflow.python.ops.array_ops) is deprecated and will be removed in a future version.\n",
      "Instructions for updating:\n",
      "Use tf.where in 2.0, which has the same broadcast rule as np.where\n",
      "0.24999999\n",
      "0.19661193\n",
      "0.10499358\n"
     ]
    }
   ],
   "source": [
    "sess = tf.compat.v1.Session()\n",
    "\n",
    "\n",
    "\n",
    "for x in range(0, 3):\n",
    "    _, dy_dx = run_step(x, \"tanh\")\n",
    "    print(sess.run(dy_dx))"
   ]
  },
  {
   "cell_type": "code",
   "execution_count": 154,
   "metadata": {},
   "outputs": [],
   "source": [
    "def run_test(p_type_str):\n",
    "    sess = tf.compat.v1.Session()\n",
    "\n",
    "    x_lst = [] # np.geomspace(-2, 2, 10)\n",
    "    y_lst = []\n",
    "    dy_dx_lst = []\n",
    "\n",
    "    import time\n",
    "\n",
    "    input_lst = np.arange(-5, 5, 0.2)\n",
    "    for i in range(0, len(input_lst)):\n",
    "        x = input_lst[i]\n",
    "\n",
    "        t1 = time.time()\n",
    "\n",
    "        y, dy_dx = run_step(x, p_type_str)\n",
    "        d        = sess.run(dy_dx)\n",
    "        # print(d)\n",
    "\n",
    "\n",
    "\n",
    "        x_lst.append(x)\n",
    "\n",
    "        y_val = sess.run(y)\n",
    "        y_lst.append(y_val)\n",
    "\n",
    "        dy_dx_lst.append(d)\n",
    "\n",
    "        # print(x_lst)\n",
    "        # print(y_lst)\n",
    "        # print(dy_dx_lst)\n",
    "\n",
    "        t2 = time.time()\n",
    "        print(\"%s/%s - %ss\"%(i, len(input_lst), t2-t1))\n",
    "\n",
    "    plt.grid(True)\n",
    "    plt.plot(x_lst, y_lst, \"g\")\n",
    "    plt.plot(x_lst, dy_dx_lst, \"r\")"
   ]
  },
  {
   "cell_type": "code",
   "execution_count": 156,
   "metadata": {},
   "outputs": [
    {
     "name": "stdout",
     "output_type": "stream",
     "text": [
      "0/50 - 2.8431553840637207s\n",
      "1/50 - 2.9345009326934814s\n",
      "2/50 - 2.932145595550537s\n",
      "3/50 - 2.999871253967285s\n",
      "4/50 - 3.1286845207214355s\n",
      "5/50 - 3.091639995574951s\n",
      "6/50 - 2.9675064086914062s\n",
      "7/50 - 3.068392276763916s\n",
      "8/50 - 2.932551145553589s\n",
      "9/50 - 2.8349173069000244s\n",
      "10/50 - 2.9446358680725098s\n",
      "11/50 - 2.9367997646331787s\n",
      "12/50 - 2.9339141845703125s\n",
      "13/50 - 3.0100367069244385s\n",
      "14/50 - 3.1107177734375s\n",
      "15/50 - 3.102998971939087s\n",
      "16/50 - 3.0769717693328857s\n",
      "17/50 - 2.998762845993042s\n",
      "18/50 - 3.2091238498687744s\n",
      "19/50 - 3.441526412963867s\n",
      "20/50 - 3.274153709411621s\n",
      "21/50 - 3.135399341583252s\n",
      "22/50 - 3.060608148574829s\n",
      "23/50 - 2.9247543811798096s\n",
      "24/50 - 3.160015821456909s\n",
      "25/50 - 3.0058767795562744s\n",
      "26/50 - 2.931903839111328s\n",
      "27/50 - 3.1069788932800293s\n",
      "28/50 - 2.9090237617492676s\n",
      "29/50 - 3.1193525791168213s\n",
      "30/50 - 2.890469551086426s\n",
      "31/50 - 3.0147294998168945s\n",
      "32/50 - 2.988379955291748s\n",
      "33/50 - 2.9652915000915527s\n",
      "34/50 - 2.96937894821167s\n",
      "35/50 - 3.057140588760376s\n",
      "36/50 - 2.9847819805145264s\n",
      "37/50 - 2.9550108909606934s\n",
      "38/50 - 2.9219400882720947s\n",
      "39/50 - 2.9071366786956787s\n",
      "40/50 - 2.9824085235595703s\n",
      "41/50 - 2.9584693908691406s\n",
      "42/50 - 2.930532693862915s\n",
      "43/50 - 2.9795949459075928s\n",
      "44/50 - 3.150797128677368s\n",
      "45/50 - 3.2049930095672607s\n",
      "46/50 - 3.121596336364746s\n",
      "47/50 - 3.177305221557617s\n",
      "48/50 - 3.0092360973358154s\n",
      "49/50 - 2.9369661808013916s\n"
     ]
    },
    {
     "data": {
      "image/png": "[encoded data removed]",
      "text/plain": [
       "<Figure size 432x288 with 1 Axes>"
      ]
     },
     "metadata": {
      "needs_background": "light"
     },
     "output_type": "display_data"
    }
   ],
   "source": [
    "run_test(\"sigmoid\")"
   ]
  },
  {
   "cell_type": "code",
   "execution_count": 157,
   "metadata": {},
   "outputs": [
    {
     "name": "stdout",
     "output_type": "stream",
     "text": [
      "0/50 - 2.900290012359619s\n",
      "1/50 - 2.999386787414551s\n",
      "2/50 - 3.0536813735961914s\n",
      "3/50 - 3.0227138996124268s\n",
      "4/50 - 2.9659628868103027s\n",
      "5/50 - 3.00416898727417s\n",
      "6/50 - 3.029707670211792s\n",
      "7/50 - 3.121809720993042s\n",
      "8/50 - 3.0761871337890625s\n",
      "9/50 - 3.1806631088256836s\n",
      "10/50 - 3.3004560470581055s\n",
      "11/50 - 3.0840611457824707s\n",
      "12/50 - 3.074636459350586s\n",
      "13/50 - 3.072382926940918s\n",
      "14/50 - 3.0765480995178223s\n",
      "15/50 - 3.130251407623291s\n",
      "16/50 - 3.04445481300354s\n",
      "17/50 - 3.087456703186035s\n",
      "18/50 - 3.037914514541626s\n",
      "19/50 - 3.0250842571258545s\n",
      "20/50 - 3.1892664432525635s\n",
      "21/50 - 3.3776509761810303s\n",
      "22/50 - 3.319929361343384s\n",
      "23/50 - 3.2174863815307617s\n",
      "24/50 - 3.1818294525146484s\n",
      "25/50 - 3.221303701400757s\n",
      "26/50 - 3.3188376426696777s\n",
      "27/50 - 3.0871071815490723s\n",
      "28/50 - 3.110757350921631s\n",
      "29/50 - 3.2453033924102783s\n",
      "30/50 - 3.2856578826904297s\n",
      "31/50 - 3.111389398574829s\n",
      "32/50 - 3.1179301738739014s\n",
      "33/50 - 3.1504688262939453s\n",
      "34/50 - 3.1249923706054688s\n",
      "35/50 - 3.0869240760803223s\n",
      "36/50 - 3.161593198776245s\n",
      "37/50 - 3.1784985065460205s\n",
      "38/50 - 3.162198066711426s\n",
      "39/50 - 3.1519086360931396s\n",
      "40/50 - 3.229358196258545s\n",
      "41/50 - 3.1139934062957764s\n",
      "42/50 - 3.1369471549987793s\n",
      "43/50 - 3.2997679710388184s\n",
      "44/50 - 3.1322479248046875s\n",
      "45/50 - 3.1580982208251953s\n",
      "46/50 - 3.1987252235412598s\n",
      "47/50 - 3.1929008960723877s\n",
      "48/50 - 3.211656093597412s\n",
      "49/50 - 3.137425661087036s\n"
     ]
    },
    {
     "data": {
      "image/png": "[encoded data removed]",
      "text/plain": [
       "<Figure size 432x288 with 1 Axes>"
      ]
     },
     "metadata": {
      "needs_background": "light"
     },
     "output_type": "display_data"
    }
   ],
   "source": [
    "run_test(\"tanh\")"
   ]
  },
  {
   "cell_type": "code",
   "execution_count": 158,
   "metadata": {},
   "outputs": [
    {
     "name": "stdout",
     "output_type": "stream",
     "text": [
      "0/50 - 5.322201490402222s\n",
      "1/50 - 5.2376837730407715s\n",
      "2/50 - 5.204629182815552s\n",
      "3/50 - 5.209854602813721s\n",
      "4/50 - 5.6322340965271s\n",
      "5/50 - 5.369730234146118s\n",
      "6/50 - 5.259985685348511s\n",
      "7/50 - 5.252997398376465s\n",
      "8/50 - 5.605458498001099s\n",
      "9/50 - 5.319669008255005s\n",
      "10/50 - 5.425795793533325s\n",
      "11/50 - 5.558258533477783s\n",
      "12/50 - 5.574413537979126s\n",
      "13/50 - 5.2905871868133545s\n",
      "14/50 - 5.2599427700042725s\n",
      "15/50 - 5.357506513595581s\n",
      "16/50 - 5.198545932769775s\n",
      "17/50 - 5.311051845550537s\n",
      "18/50 - 5.4887707233428955s\n",
      "19/50 - 5.465182065963745s\n",
      "20/50 - 5.62846302986145s\n",
      "21/50 - 5.592763900756836s\n",
      "22/50 - 5.47521185874939s\n",
      "23/50 - 5.673851490020752s\n",
      "24/50 - 5.515314817428589s\n",
      "25/50 - 5.568107843399048s\n",
      "26/50 - 5.549628973007202s\n",
      "27/50 - 5.485443830490112s\n",
      "28/50 - 5.700120687484741s\n",
      "29/50 - 5.556420803070068s\n",
      "30/50 - 5.345186471939087s\n",
      "31/50 - 5.3015289306640625s\n",
      "32/50 - 5.296907901763916s\n",
      "33/50 - 5.315702199935913s\n",
      "34/50 - 5.265882253646851s\n",
      "35/50 - 5.331820726394653s\n",
      "36/50 - 5.313354015350342s\n",
      "37/50 - 5.299989223480225s\n",
      "38/50 - 5.273874998092651s\n",
      "39/50 - 5.310230016708374s\n",
      "40/50 - 5.325303792953491s\n",
      "41/50 - 5.331805944442749s\n",
      "42/50 - 5.3750293254852295s\n",
      "43/50 - 5.355466365814209s\n",
      "44/50 - 5.333369016647339s\n",
      "45/50 - 5.289947271347046s\n",
      "46/50 - 5.3581483364105225s\n",
      "47/50 - 5.50414776802063s\n",
      "48/50 - 5.284544229507446s\n",
      "49/50 - 5.328499794006348s\n"
     ]
    },
    {
     "data": {
      "image/png": "[encoded data removed]",
      "text/plain": [
       "<Figure size 432x288 with 1 Axes>"
      ]
     },
     "metadata": {
      "needs_background": "light"
     },
     "output_type": "display_data"
    }
   ],
   "source": [
    "run_test(\"relu\")"
   ]
  },
  {
   "cell_type": "code",
   "execution_count": null,
   "metadata": {},
   "outputs": [],
   "source": []
  }
 ],
 "metadata": {
  "kernelspec": {
   "display_name": "Python 3",
   "language": "python",
   "name": "python3"
  },
  "language_info": {
   "codemirror_mode": {
    "name": "ipython",
    "version": 3
   },
   "file_extension": ".py",
   "mimetype": "text/x-python",
   "name": "python",
   "nbconvert_exporter": "python",
   "pygments_lexer": "ipython3",
   "version": "3.7.5"
  }
 },
 "nbformat": 4,
 "nbformat_minor": 4
}
