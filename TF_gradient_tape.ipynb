{
 "cells": [
  {
   "cell_type": "code",
   "execution_count": 55,
   "metadata": {},
   "outputs": [],
   "source": [
    "import numpy as np\n",
    "import tensorflow as tf\n",
    "\n",
    "import matplotlib.pyplot as plt"
   ]
  },
  {
   "cell_type": "code",
   "execution_count": 56,
   "metadata": {},
   "outputs": [
    {
     "name": "stdout",
     "output_type": "stream",
     "text": [
      "3.0\n"
     ]
    }
   ],
   "source": [
    "sess = tf.compat.v1.Session()\n",
    "\n",
    "c = tf.constant(3.0)\n",
    "print(sess.run(c))\n"
   ]
  },
  {
   "attachments": {
    "image.png": {
     "image/png": "[encoded data removed]"
    }
   },
   "cell_type": "markdown",
   "metadata": {},
   "source": [
    "![image.png](attachment:image.png)\n",
    "- just a note for second/third-order derivative syntax\n",
    "- TF GradientTape docs - https://www.tensorflow.org/api_docs/python/tf/GradientTape "
   ]
  },
  {
   "cell_type": "code",
   "execution_count": null,
   "metadata": {},
   "outputs": [
    {
     "name": "stdout",
     "output_type": "stream",
     "text": [
      "0\n"
     ]
    }
   ],
   "source": [
    "\n",
    "\n",
    "from matplotlib import colors as mcolors\n",
    "colors_lst = [\"darkblue\", \"yellowgreen\", \"r\", \"b\", \"c\", \"m\", \"y\", \"k\"]\n",
    "\n",
    "\n",
    "sess  = tf.compat.v1.Session()\n",
    "x_lst = np.arange(-3, 3, 0.1)\n",
    "y_lst = []\n",
    "\n",
    "derivatives_order_int = 6\n",
    "\n",
    "d_vals_map = {}\n",
    "for i in range(0, derivatives_order_int):\n",
    "    d_vals_map[i+1] = []\n",
    "#-------------------------------------------------------------\n",
    "def calc(p_x_tensor, N):\n",
    "    \n",
    "    with tf.GradientTape() as g:\n",
    "        g.watch(p_x_tensor)\n",
    "        \n",
    "        \n",
    "        if N > 1:\n",
    "            # RECURSION\n",
    "            d_tensor = calc(p_x_tensor, N-1)\n",
    "            \n",
    "            dNy_dxN     = g.gradient(d_tensor, p_x_tensor)\n",
    "            dNy_dxN_val = sess.run(dNy_dxN)\n",
    "            \n",
    "            d_vals_map[N].append(dNy_dxN_val)\n",
    "            \n",
    "            return dNy_dxN\n",
    "        else:\n",
    "            y_tensor = tf.math.tanh(p_x_tensor)\n",
    "            y_lst.append(sess.run(y_tensor))\n",
    "            \n",
    "            dy_dx     = g.gradient(y_tensor, p_x_tensor)\n",
    "            dy_dx_val = sess.run(dy_dx)\n",
    "            \n",
    "            d_vals_map[N].append(dy_dx_val)\n",
    "            return dy_dx\n",
    "    \n",
    "#-------------------------------------------------------------\n",
    "for i in range(0, len(x_lst)):\n",
    "    print(i)\n",
    "    x = x_lst[i] \n",
    "    x_tensor = tf.constant(x)\n",
    "\n",
    "    dNy_dxN = calc(x_tensor, derivatives_order_int)\n",
    "    \n",
    "print(d_vals_map)\n",
    "    \n",
    "from matplotlib.pyplot import figure\n",
    "figure(num=None, figsize=(10, 8), dpi=80, facecolor='w', edgecolor='k')\n",
    "\n",
    "plt.grid(True)\n",
    "plt.plot(x_lst, y_lst, \"g\")\n",
    "\n",
    "for i in range(0, derivatives_order_int):\n",
    "    d_vals_lst = d_vals_map[i+1]\n",
    "    \n",
    "    color_str = colors_lst[i]\n",
    "    plt.plot(x_lst, d_vals_lst, color_str)\n",
    "    \n",
    "\n"
   ]
  },
  {
   "cell_type": "code",
   "execution_count": 83,
   "metadata": {},
   "outputs": [
    {
     "name": "stdout",
     "output_type": "stream",
     "text": [
      "-3.0\n",
      "-2.9\n",
      "-2.8\n",
      "-2.6999999999999997\n",
      "-2.5999999999999996\n",
      "-2.4999999999999996\n",
      "-2.3999999999999995\n",
      "-2.2999999999999994\n",
      "-2.1999999999999993\n",
      "-2.099999999999999\n",
      "-1.9999999999999991\n",
      "-1.899999999999999\n",
      "-1.799999999999999\n",
      "-1.6999999999999988\n",
      "-1.5999999999999988\n",
      "-1.4999999999999987\n",
      "-1.3999999999999986\n",
      "-1.2999999999999985\n",
      "-1.1999999999999984\n",
      "-1.0999999999999983\n",
      "-0.9999999999999982\n",
      "-0.8999999999999981\n",
      "-0.799999999999998\n",
      "-0.699999999999998\n",
      "-0.5999999999999979\n",
      "-0.4999999999999978\n",
      "-0.3999999999999977\n",
      "-0.2999999999999976\n",
      "-0.1999999999999975\n",
      "-0.09999999999999742\n",
      "2.6645352591003757e-15\n",
      "0.10000000000000275\n",
      "0.20000000000000284\n",
      "0.30000000000000293\n",
      "0.400000000000003\n",
      "0.5000000000000031\n",
      "0.6000000000000032\n",
      "0.7000000000000033\n",
      "0.8000000000000034\n",
      "0.9000000000000035\n",
      "1.0000000000000036\n",
      "1.1000000000000032\n",
      "1.2000000000000037\n",
      "1.3000000000000043\n",
      "1.400000000000004\n",
      "1.5000000000000036\n",
      "1.600000000000004\n",
      "1.7000000000000046\n",
      "1.8000000000000043\n",
      "1.900000000000004\n",
      "2.0000000000000044\n",
      "2.100000000000005\n",
      "2.2000000000000046\n",
      "2.3000000000000043\n",
      "2.400000000000005\n",
      "2.5000000000000053\n",
      "2.600000000000005\n",
      "2.7000000000000046\n",
      "2.800000000000005\n",
      "2.9000000000000057\n"
     ]
    },
    {
     "data": {
      "text/plain": [
       "[<matplotlib.lines.Line2D at 0x7f9906020890>]"
      ]
     },
     "execution_count": 83,
     "metadata": {},
     "output_type": "execute_result"
    },
    {
     "data": {
      "image/png": "[encoded data removed]",
      "text/plain": [
       "<Figure size 432x288 with 1 Axes>"
      ]
     },
     "metadata": {
      "needs_background": "light"
     },
     "output_type": "display_data"
    }
   ],
   "source": [
    "sess = tf.compat.v1.Session()\n",
    "\n",
    "x_lst       = np.arange(-3, 3, 0.1)\n",
    "y_lst       = []\n",
    "dy_dx_lst   = []\n",
    "d2y_dx2_lst = []\n",
    "d3y_dx3_lst = []\n",
    "\n",
    "for i in range(0, len(x_lst)):\n",
    "    x = x_lst[i]\n",
    "    print(x)\n",
    "    x_tensor = tf.constant(float(x))\n",
    "    \n",
    "    \n",
    "    \n",
    "    \n",
    "    x_tensor = tf.constant(x)\n",
    "    with tf.GradientTape() as g:\n",
    "        # tf.constants are not automatically watched by tf.GradientTape's,\n",
    "        # so they have to be watched explicitly (g.watch(x)). \n",
    "        # tf.Variable's are watched automaticaly, unless their \"trainable=False\" is set.\n",
    "        g.watch(x_tensor)\n",
    "        \n",
    "        \n",
    "        with tf.GradientTape() as gg:\n",
    "            gg.watch(x_tensor)\n",
    "            \n",
    "            # most nested GradientTape tracks the original function.\n",
    "            # all other parent GradientTapes track n-order derivatives.\n",
    "            with tf.GradientTape() as ggg:\n",
    "                ggg.watch(x_tensor)\n",
    "                y_tensor = tf.math.tanh(x_tensor)\n",
    "    \n",
    "            # IMPORTANT!! - \"dy_dx\" has to be calculated within the \"gg\" context,\n",
    "            #               so that that GradientTape tracks it for the second-order \n",
    "            #               derivative calculation (\"d2y_dx2\"). \n",
    "            dy_dx = ggg.gradient(y_tensor, x_tensor)\n",
    "        \n",
    "        # has to be calculated within the \"g\" context, for it to be tracked\n",
    "        # for gradient calculations when computing the third-order derivative\n",
    "        d2y_dx2 = gg.gradient(dy_dx, x_tensor)\n",
    "    \n",
    "    d3y_dx3 = g.gradient(d2y_dx2, x_tensor)\n",
    "    \n",
    "    y = sess.run(y_tensor)\n",
    "    y_lst.append(y)\n",
    "    \n",
    "    dy_dx_lst.append(sess.run(dy_dx))\n",
    "    d2y_dx2_lst.append(sess.run(d2y_dx2))\n",
    "    d3y_dx3_lst.append(sess.run(d3y_dx3))\n",
    "    \n",
    "        \n",
    "plt.grid(True)\n",
    "plt.plot(x_lst, y_lst, \"b\")\n",
    "plt.plot(x_lst, dy_dx_lst, \"g\")\n",
    "plt.plot(x_lst, d2y_dx2_lst, \"r\")\n",
    "plt.plot(x_lst, d3y_dx3_lst, \"y\")"
   ]
  },
  {
   "cell_type": "code",
   "execution_count": 73,
   "metadata": {},
   "outputs": [],
   "source": [
    "\n",
    "import math\n",
    "import numpy as np\n",
    "# import tensorflow.python.framework.ops.Tensor as tensor\n",
    "e = math.e\n",
    "    \n",
    "def run_step(p_x, p_type_str):\n",
    "    \n",
    "    x = tf.constant(float(p_x))\n",
    "    \n",
    "    #-------------------------------------------------------------\n",
    "    # @tf.function \n",
    "    def f(p_input, p_type_str):\n",
    "        \n",
    "        if p_type_str == \"sigmoid\":\n",
    "            # sigmoid activation fun - 1/(1+e^-x)\n",
    "            output = 1/(1 + e**-p_input)\n",
    "            # output = tf.math.sigmoid(p_input_var)\n",
    "        \n",
    "        elif p_type_str == \"tanh\":\n",
    "            # hyperbolic tangent fun - (e^x - e^-x)/(e^x+e^-x)\n",
    "            output = (e**p_input - e**-p_input) / (e**p_input + e**-p_input)\n",
    "            # output = tf.math.tanh(p_input_var)\n",
    "        \n",
    "        elif p_type_str == \"relu\":\n",
    "            # ReLU - Rectified Linear Unit - max(0, x)\n",
    "            if sess.run(p_input) > 0: output = p_input\n",
    "            else:                     output = 0.0 * p_input\n",
    "            # output = tf.nn.relu(p_x)\n",
    "        \n",
    "        elif p_type_str == \"custom\":\n",
    "            output     = p_input**2\n",
    "            output_val = sess.run(output)\n",
    "            \n",
    "            if output_val > 2:\n",
    "                d_above_level = output-2\n",
    "                output = 2-d_above_level/2\n",
    "            \n",
    "            \n",
    "        return output\n",
    "    \n",
    "    #-------------------------------------------------------------\n",
    "    \n",
    "    with tf.GradientTape() as g:\n",
    "        # tf.constants are not automatically watched by tf.GradientTape's,\n",
    "        # so they have to be watched explicitly (g.watch(x)). \n",
    "        # tf.Variable's are watched automaticaly, unless their \"trainable=False\" is set.\n",
    "        g.watch(x)\n",
    "\n",
    "        # y = tf.py_function(func=t, inp=[p_x], Tout=tf.float32)\n",
    "        y = f(x, p_type_str)\n",
    "        assert isinstance(y, tf.Tensor)\n",
    "\n",
    "        target = y # tf.convert_to_tensor(y)\n",
    "        source = x\n",
    "        dy_dx  = g.gradient(target, source)\n",
    "\n",
    "    with tf.GradientTape() as g2:\n",
    "        g2.watch(x)\n",
    "\n",
    "        z = f(x, \"custom\")\n",
    "        assert isinstance(z, tf.Tensor)\n",
    "\n",
    "        target = z # tf.convert_to_tensor(y)\n",
    "        source = x\n",
    "        dz_dx = g2.gradient(z, x)\n",
    "    \n",
    "        \n",
    "    return y, z, dy_dx, dz_dx"
   ]
  },
  {
   "cell_type": "code",
   "execution_count": 74,
   "metadata": {},
   "outputs": [
    {
     "name": "stdout",
     "output_type": "stream",
     "text": [
      "0.99999994\n",
      "0.41997433\n",
      "0.070650876\n"
     ]
    }
   ],
   "source": [
    "sess = tf.compat.v1.Session()\n",
    "\n",
    "for x in range(0, 3):\n",
    "    _, _, dy_dx, _ = run_step(x, \"tanh\")\n",
    "    print(sess.run(dy_dx))"
   ]
  },
  {
   "cell_type": "code",
   "execution_count": 75,
   "metadata": {},
   "outputs": [],
   "source": [
    "def run_test(p_type_str):\n",
    "    sess = tf.compat.v1.Session()\n",
    "\n",
    "    x_lst = [] # np.geomspace(-2, 2, 10)\n",
    "    z_lst = []\n",
    "    y_lst = []\n",
    "    dy_dx_lst = []\n",
    "    dz_dx_lst = []\n",
    "\n",
    "    import time\n",
    "\n",
    "    input_lst = np.arange(-3, 3, 0.1)\n",
    "    for i in range(0, len(input_lst)):\n",
    "        x = input_lst[i]\n",
    "\n",
    "        t1 = time.time()\n",
    "\n",
    "        y, z, dy_dx, dz_dx = run_step(x, p_type_str)\n",
    "        assert isinstance(y,     tf.Tensor)\n",
    "        assert isinstance(z,     tf.Tensor)\n",
    "        assert isinstance(dy_dx, tf.Tensor)\n",
    "        assert isinstance(dz_dx, tf.Tensor)\n",
    "        \n",
    "        y_val     = sess.run(y)\n",
    "        z_val     = sess.run(z)\n",
    "        dy_dx_val = sess.run(dy_dx)\n",
    "        dz_dx_val = sess.run(dz_dx)\n",
    "        \n",
    "        x_lst.append(x)\n",
    "        z_lst.append(z_val)\n",
    "        y_lst.append(y_val)\n",
    "        dy_dx_lst.append(dy_dx_val)\n",
    "        dz_dx_lst.append(dz_dx_val)\n",
    "        \n",
    "        t2 = time.time()\n",
    "        print(\"%s/%s - %ss\"%(i, len(input_lst), t2-t1))\n",
    "\n",
    "    plt.grid(True)\n",
    "    # plt.plot(x_lst, y_lst, \"g\")\n",
    "    plt.plot(x_lst, z_lst, \"b\")\n",
    "    # plt.plot(x_lst, dy_dx_lst, \"r\")\n",
    "    plt.plot(x_lst, dz_dx_lst, \"r\")"
   ]
  },
  {
   "cell_type": "code",
   "execution_count": 76,
   "metadata": {},
   "outputs": [
    {
     "name": "stdout",
     "output_type": "stream",
     "text": [
      "0/60 - 2.1229135990142822s\n",
      "1/60 - 2.1173384189605713s\n",
      "2/60 - 2.1265361309051514s\n",
      "3/60 - 2.3679497241973877s\n",
      "4/60 - 2.5248348712921143s\n",
      "5/60 - 2.578242301940918s\n",
      "6/60 - 2.9338855743408203s\n",
      "7/60 - 2.720207452774048s\n",
      "8/60 - 2.7227959632873535s\n",
      "9/60 - 2.735929250717163s\n",
      "10/60 - 2.726350784301758s\n",
      "11/60 - 2.751636505126953s\n",
      "12/60 - 2.7450168132781982s\n",
      "13/60 - 2.769923686981201s\n",
      "14/60 - 2.753915548324585s\n",
      "15/60 - 2.768068552017212s\n",
      "16/60 - 2.7412846088409424s\n",
      "17/60 - 2.7629811763763428s\n",
      "18/60 - 2.7957937717437744s\n",
      "19/60 - 2.773797035217285s\n",
      "20/60 - 2.7838430404663086s\n",
      "21/60 - 2.762174367904663s\n",
      "22/60 - 2.7812089920043945s\n",
      "23/60 - 2.7761318683624268s\n",
      "24/60 - 2.8079142570495605s\n",
      "25/60 - 2.783256769180298s\n",
      "26/60 - 2.771949291229248s\n",
      "27/60 - 2.7850356101989746s\n",
      "28/60 - 2.7719953060150146s\n",
      "29/60 - 2.8050379753112793s\n",
      "30/60 - 2.783095598220825s\n",
      "31/60 - 2.7883946895599365s\n",
      "32/60 - 2.763684034347534s\n",
      "33/60 - 2.789604425430298s\n",
      "34/60 - 2.793267011642456s\n",
      "35/60 - 2.789292335510254s\n",
      "36/60 - 2.807417392730713s\n",
      "37/60 - 2.8042263984680176s\n",
      "38/60 - 2.8043932914733887s\n",
      "39/60 - 2.802347421646118s\n",
      "40/60 - 2.795522928237915s\n",
      "41/60 - 2.815049171447754s\n",
      "42/60 - 2.8189239501953125s\n",
      "43/60 - 2.829047918319702s\n",
      "44/60 - 2.8210270404815674s\n",
      "45/60 - 2.835707902908325s\n",
      "46/60 - 3.0791659355163574s\n",
      "47/60 - 2.8592119216918945s\n",
      "48/60 - 2.8757729530334473s\n",
      "49/60 - 2.896789312362671s\n",
      "50/60 - 2.881481409072876s\n",
      "51/60 - 2.888547420501709s\n",
      "52/60 - 2.8846137523651123s\n",
      "53/60 - 2.945308208465576s\n",
      "54/60 - 2.8922433853149414s\n",
      "55/60 - 2.903294324874878s\n",
      "56/60 - 2.9050424098968506s\n",
      "57/60 - 2.944657802581787s\n",
      "58/60 - 2.9407384395599365s\n",
      "59/60 - 2.9502437114715576s\n"
     ]
    },
    {
     "data": {
      "image/png": "[encoded data removed]",
      "text/plain": [
       "<Figure size 432x288 with 1 Axes>"
      ]
     },
     "metadata": {
      "needs_background": "light"
     },
     "output_type": "display_data"
    }
   ],
   "source": [
    "run_test(\"custom\")"
   ]
  },
  {
   "cell_type": "code",
   "execution_count": null,
   "metadata": {},
   "outputs": [],
   "source": [
    "run_test(\"sigmoid\")"
   ]
  },
  {
   "cell_type": "code",
   "execution_count": 157,
   "metadata": {},
   "outputs": [
    {
     "name": "stdout",
     "output_type": "stream",
     "text": [
      "0/50 - 2.900290012359619s\n",
      "1/50 - 2.999386787414551s\n",
      "2/50 - 3.0536813735961914s\n",
      "3/50 - 3.0227138996124268s\n",
      "4/50 - 2.9659628868103027s\n",
      "5/50 - 3.00416898727417s\n",
      "6/50 - 3.029707670211792s\n",
      "7/50 - 3.121809720993042s\n",
      "8/50 - 3.0761871337890625s\n",
      "9/50 - 3.1806631088256836s\n",
      "10/50 - 3.3004560470581055s\n",
      "11/50 - 3.0840611457824707s\n",
      "12/50 - 3.074636459350586s\n",
      "13/50 - 3.072382926940918s\n",
      "14/50 - 3.0765480995178223s\n",
      "15/50 - 3.130251407623291s\n",
      "16/50 - 3.04445481300354s\n",
      "17/50 - 3.087456703186035s\n",
      "18/50 - 3.037914514541626s\n",
      "19/50 - 3.0250842571258545s\n",
      "20/50 - 3.1892664432525635s\n",
      "21/50 - 3.3776509761810303s\n",
      "22/50 - 3.319929361343384s\n",
      "23/50 - 3.2174863815307617s\n",
      "24/50 - 3.1818294525146484s\n",
      "25/50 - 3.221303701400757s\n",
      "26/50 - 3.3188376426696777s\n",
      "27/50 - 3.0871071815490723s\n",
      "28/50 - 3.110757350921631s\n",
      "29/50 - 3.2453033924102783s\n",
      "30/50 - 3.2856578826904297s\n",
      "31/50 - 3.111389398574829s\n",
      "32/50 - 3.1179301738739014s\n",
      "33/50 - 3.1504688262939453s\n",
      "34/50 - 3.1249923706054688s\n",
      "35/50 - 3.0869240760803223s\n",
      "36/50 - 3.161593198776245s\n",
      "37/50 - 3.1784985065460205s\n",
      "38/50 - 3.162198066711426s\n",
      "39/50 - 3.1519086360931396s\n",
      "40/50 - 3.229358196258545s\n",
      "41/50 - 3.1139934062957764s\n",
      "42/50 - 3.1369471549987793s\n",
      "43/50 - 3.2997679710388184s\n",
      "44/50 - 3.1322479248046875s\n",
      "45/50 - 3.1580982208251953s\n",
      "46/50 - 3.1987252235412598s\n",
      "47/50 - 3.1929008960723877s\n",
      "48/50 - 3.211656093597412s\n",
      "49/50 - 3.137425661087036s\n"
     ]
    },
    {
     "data": {
      "image/png": "[encoded data removed]",
      "text/plain": [
       "<Figure size 432x288 with 1 Axes>"
      ]
     },
     "metadata": {
      "needs_background": "light"
     },
     "output_type": "display_data"
    }
   ],
   "source": [
    "run_test(\"tanh\")"
   ]
  },
  {
   "cell_type": "code",
   "execution_count": 158,
   "metadata": {},
   "outputs": [
    {
     "name": "stdout",
     "output_type": "stream",
     "text": [
      "0/50 - 5.322201490402222s\n",
      "1/50 - 5.2376837730407715s\n",
      "2/50 - 5.204629182815552s\n",
      "3/50 - 5.209854602813721s\n",
      "4/50 - 5.6322340965271s\n",
      "5/50 - 5.369730234146118s\n",
      "6/50 - 5.259985685348511s\n",
      "7/50 - 5.252997398376465s\n",
      "8/50 - 5.605458498001099s\n",
      "9/50 - 5.319669008255005s\n",
      "10/50 - 5.425795793533325s\n",
      "11/50 - 5.558258533477783s\n",
      "12/50 - 5.574413537979126s\n",
      "13/50 - 5.2905871868133545s\n",
      "14/50 - 5.2599427700042725s\n",
      "15/50 - 5.357506513595581s\n",
      "16/50 - 5.198545932769775s\n",
      "17/50 - 5.311051845550537s\n",
      "18/50 - 5.4887707233428955s\n",
      "19/50 - 5.465182065963745s\n",
      "20/50 - 5.62846302986145s\n",
      "21/50 - 5.592763900756836s\n",
      "22/50 - 5.47521185874939s\n",
      "23/50 - 5.673851490020752s\n",
      "24/50 - 5.515314817428589s\n",
      "25/50 - 5.568107843399048s\n",
      "26/50 - 5.549628973007202s\n",
      "27/50 - 5.485443830490112s\n",
      "28/50 - 5.700120687484741s\n",
      "29/50 - 5.556420803070068s\n",
      "30/50 - 5.345186471939087s\n",
      "31/50 - 5.3015289306640625s\n",
      "32/50 - 5.296907901763916s\n",
      "33/50 - 5.315702199935913s\n",
      "34/50 - 5.265882253646851s\n",
      "35/50 - 5.331820726394653s\n",
      "36/50 - 5.313354015350342s\n",
      "37/50 - 5.299989223480225s\n",
      "38/50 - 5.273874998092651s\n",
      "39/50 - 5.310230016708374s\n",
      "40/50 - 5.325303792953491s\n",
      "41/50 - 5.331805944442749s\n",
      "42/50 - 5.3750293254852295s\n",
      "43/50 - 5.355466365814209s\n",
      "44/50 - 5.333369016647339s\n",
      "45/50 - 5.289947271347046s\n",
      "46/50 - 5.3581483364105225s\n",
      "47/50 - 5.50414776802063s\n",
      "48/50 - 5.284544229507446s\n",
      "49/50 - 5.328499794006348s\n"
     ]
    },
    {
     "data": {
      "image/png": "[encoded data removed]",
      "text/plain": [
       "<Figure size 432x288 with 1 Axes>"
      ]
     },
     "metadata": {
      "needs_background": "light"
     },
     "output_type": "display_data"
    }
   ],
   "source": [
    "run_test(\"relu\")"
   ]
  },
  {
   "cell_type": "code",
   "execution_count": null,
   "metadata": {},
   "outputs": [],
   "source": []
  },
  {
   "cell_type": "code",
   "execution_count": 24,
   "metadata": {},
   "outputs": [
    {
     "data": {
      "text/plain": [
       "[<matplotlib.lines.Line2D at 0x7f3fbc151d90>]"
      ]
     },
     "execution_count": 24,
     "metadata": {},
     "output_type": "execute_result"
    },
    {
     "data": {
      "image/png": "[encoded data removed]",
      "text/plain": [
       "<Figure size 432x288 with 1 Axes>"
      ]
     },
     "metadata": {
      "needs_background": "light"
     },
     "output_type": "display_data"
    }
   ],
   "source": [
    "x = np.linspace(-2, 2, 1000)\n",
    "y = np.linspace(-2, 2, 1000)\n",
    "# print(x)\n",
    "\n",
    "plt.grid(True)\n",
    "plt.plot(x,y,'g')"
   ]
  }
 ],
 "metadata": {
  "kernelspec": {
   "display_name": "Python 3",
   "language": "python",
   "name": "python3"
  },
  "language_info": {
   "codemirror_mode": {
    "name": "ipython",
    "version": 3
   },
   "file_extension": ".py",
   "mimetype": "text/x-python",
   "name": "python",
   "nbconvert_exporter": "python",
   "pygments_lexer": "ipython3",
   "version": "3.7.5"
  }
 },
 "nbformat": 4,
 "nbformat_minor": 4
}
