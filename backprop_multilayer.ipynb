{
 "cells": [
  {
   "cell_type": "markdown",
   "metadata": {},
   "source": [
    "# Backpropagation in Multilayer Neural Networks\n",
    "\n",
    "### Goals: \n",
    "- implementING a real gradient descent in `Numpy`\n",
    "\n",
    "### Dataset:\n",
    "- Similar as first Lab - Digits: 10 class handwritten digits\n",
    "- [sklearn.datasets.load_digits](http://scikit-learn.org/stable/modules/generated/sklearn.datasets.load_digits.html#sklearn.datasets.load_digits)"
   ]
  },
  {
   "cell_type": "code",
   "execution_count": 4,
   "metadata": {},
   "outputs": [],
   "source": [
    "%matplotlib inline\n",
    "import matplotlib.pyplot as plt\n",
    "import numpy as np\n",
    "from sklearn.datasets import load_digits\n",
    "\n",
    "digits = load_digits()"
   ]
  },
  {
   "cell_type": "code",
   "execution_count": 5,
   "metadata": {},
   "outputs": [
    {
     "data": {
      "image/png": "[encoded data removed]",
      "text/plain": [
       "<Figure size 216x216 with 1 Axes>"
      ]
     },
     "metadata": {
      "needs_background": "light"
     },
     "output_type": "display_data"
    }
   ],
   "source": [
    "sample_index = 45\n",
    "plt.figure(figsize=(3, 3))\n",
    "plt.imshow(digits.images[sample_index], cmap=plt.cm.gray_r,\n",
    "           interpolation='nearest')\n",
    "plt.title(\"image label: %d\" % digits.target[sample_index]);"
   ]
  },
  {
   "cell_type": "markdown",
   "metadata": {},
   "source": [
    "### Preprocessing\n",
    "\n",
    "- Normalization\n",
    "- Train / test split"
   ]
  },
  {
   "cell_type": "code",
   "execution_count": 6,
   "metadata": {},
   "outputs": [],
   "source": [
    "from sklearn import preprocessing\n",
    "from sklearn.model_selection import train_test_split\n",
    "\n",
    "data = np.asarray(digits.data, dtype='float32')\n",
    "target = np.asarray(digits.target, dtype='int32')\n",
    "\n",
    "X_train, X_test, y_train, y_test = train_test_split(\n",
    "    data, target, test_size=0.15, random_state=37)\n",
    "\n",
    "# mean = 0 ; standard deviation = 1.0\n",
    "scaler = preprocessing.StandardScaler()\n",
    "X_train = scaler.fit_transform(X_train)\n",
    "X_test = scaler.transform(X_test)\n",
    "\n",
    "# print(scaler.mean_)\n",
    "# print(scaler.scale_)"
   ]
  },
  {
   "cell_type": "code",
   "execution_count": 7,
   "metadata": {},
   "outputs": [],
   "source": [
    "def one_hot(n_classes, y):\n",
    "    return np.eye(n_classes)[y]"
   ]
  },
  {
   "cell_type": "code",
   "execution_count": 8,
   "metadata": {},
   "outputs": [
    {
     "data": {
      "text/plain": [
       "array([0., 0., 0., 1., 0., 0., 0., 0., 0., 0.])"
      ]
     },
     "execution_count": 8,
     "metadata": {},
     "output_type": "execute_result"
    }
   ],
   "source": [
    "one_hot(n_classes=10, y=3)"
   ]
  },
  {
   "cell_type": "code",
   "execution_count": 9,
   "metadata": {},
   "outputs": [
    {
     "data": {
      "text/plain": [
       "array([[1., 0., 0., 0., 0., 0., 0., 0., 0., 0.],\n",
       "       [0., 0., 0., 0., 1., 0., 0., 0., 0., 0.],\n",
       "       [0., 0., 0., 0., 0., 0., 0., 0., 0., 1.],\n",
       "       [0., 1., 0., 0., 0., 0., 0., 0., 0., 0.]])"
      ]
     },
     "execution_count": 9,
     "metadata": {},
     "output_type": "execute_result"
    }
   ],
   "source": [
    "one_hot(n_classes=10, y=[0, 4, 9, 1])"
   ]
  },
  {
   "cell_type": "code",
   "execution_count": 10,
   "metadata": {},
   "outputs": [
    {
     "name": "stdout",
     "output_type": "stream",
     "text": [
      "softmax of a single vector:\n",
      "[9.99662391e-01 3.35349373e-04 2.25956630e-06]\n"
     ]
    }
   ],
   "source": [
    "# norm over a column \n",
    "def softmax(X):\n",
    "    exp = np.exp(X)\n",
    "    return exp / np.sum(exp, axis=-1, keepdims=True)\n",
    "\n",
    "\n",
    "print(\"softmax of a single vector:\")\n",
    "print(softmax([10, 2, -3]))"
   ]
  },
  {
   "cell_type": "code",
   "execution_count": 11,
   "metadata": {},
   "outputs": [
    {
     "name": "stdout",
     "output_type": "stream",
     "text": [
      "[[[0. 1. 2. 3. 4. 5. 6. 7. 8.]\n",
      "  [0. 1. 2. 3. 4. 5. 6. 7. 8.]\n",
      "  [0. 1. 2. 3. 4. 5. 6. 7. 8.]\n",
      "  [0. 1. 2. 3. 4. 5. 6. 7. 8.]\n",
      "  [0. 1. 2. 3. 4. 5. 6. 7. 8.]\n",
      "  [0. 1. 2. 3. 4. 5. 6. 7. 8.]]\n",
      "\n",
      " [[0. 1. 2. 3. 4. 5. 6. 7. 8.]\n",
      "  [0. 1. 2. 3. 4. 5. 6. 7. 8.]\n",
      "  [0. 1. 2. 3. 4. 5. 6. 7. 8.]\n",
      "  [0. 1. 2. 3. 4. 5. 6. 7. 8.]\n",
      "  [0. 1. 2. 3. 4. 5. 6. 7. 8.]\n",
      "  [0. 1. 2. 3. 4. 5. 6. 7. 8.]]\n",
      "\n",
      " [[0. 1. 2. 3. 4. 5. 6. 7. 8.]\n",
      "  [0. 1. 2. 3. 4. 5. 6. 7. 8.]\n",
      "  [0. 1. 2. 3. 4. 5. 6. 7. 8.]\n",
      "  [0. 1. 2. 3. 4. 5. 6. 7. 8.]\n",
      "  [0. 1. 2. 3. 4. 5. 6. 7. 8.]\n",
      "  [0. 1. 2. 3. 4. 5. 6. 7. 8.]]]\n"
     ]
    },
    {
     "data": {
      "text/plain": [
       "array([[[36.],\n",
       "        [36.],\n",
       "        [36.],\n",
       "        [36.],\n",
       "        [36.],\n",
       "        [36.]],\n",
       "\n",
       "       [[36.],\n",
       "        [36.],\n",
       "        [36.],\n",
       "        [36.],\n",
       "        [36.],\n",
       "        [36.]],\n",
       "\n",
       "       [[36.],\n",
       "        [36.],\n",
       "        [36.],\n",
       "        [36.],\n",
       "        [36.],\n",
       "        [36.]]])"
      ]
     },
     "execution_count": 11,
     "metadata": {},
     "output_type": "execute_result"
    }
   ],
   "source": [
    "# TO BE EXAMINED MORE: keepdims?!\n",
    "\n",
    "m = 3\n",
    "W = np.ones((m, 2 * m, 3 * m))\n",
    "\n",
    "for i in range(m):\n",
    "    for j in range(2 * m):\n",
    "        for k in range(3 * m):\n",
    "            W[i, j, k] = k\n",
    "        \n",
    "# np.sum(W, axis=0)\n",
    "print(W)\n",
    "\n",
    "3 * 6 * 9\n",
    "np.sum(W, axis=-1, keepdims=True)\n",
    "\n",
    "# print(W[:, 0])"
   ]
  },
  {
   "cell_type": "markdown",
   "metadata": {},
   "source": [
    "Probabilities should sum to 1:"
   ]
  },
  {
   "cell_type": "code",
   "execution_count": 12,
   "metadata": {},
   "outputs": [
    {
     "name": "stdout",
     "output_type": "stream",
     "text": [
      "1.0\n"
     ]
    }
   ],
   "source": [
    "print(np.sum(softmax([10, 2, -3])))"
   ]
  },
  {
   "cell_type": "code",
   "execution_count": 13,
   "metadata": {},
   "outputs": [
    {
     "name": "stdout",
     "output_type": "stream",
     "text": [
      "sotfmax of 2 vectors:\n",
      "[[9.99662391e-01 3.35349373e-04 2.25956630e-06]\n",
      " [2.47262316e-03 9.97527377e-01 1.38536042e-11]]\n"
     ]
    }
   ],
   "source": [
    "print(\"sotfmax of 2 vectors:\")\n",
    "X = np.array([[10, 2, -3],\n",
    "              [-1, 5, -20]])\n",
    "print(softmax(X))"
   ]
  },
  {
   "cell_type": "markdown",
   "metadata": {},
   "source": [
    "The sum of probabilities for each input vector of logits should some to 1:"
   ]
  },
  {
   "cell_type": "code",
   "execution_count": 14,
   "metadata": {},
   "outputs": [
    {
     "name": "stdout",
     "output_type": "stream",
     "text": [
      "[1. 1.]\n"
     ]
    }
   ],
   "source": [
    "print(np.sum(softmax(X), axis=1))"
   ]
  },
  {
   "cell_type": "markdown",
   "metadata": {},
   "source": [
    "Implement a function that given the true one-hot encoded class `Y_true` and and some predicted probabilities `Y_pred` returns the negative log likelihood."
   ]
  },
  {
   "cell_type": "code",
   "execution_count": 15,
   "metadata": {},
   "outputs": [],
   "source": [
    "# def nll(Y_true, Y_pred):\n",
    "#     Y_true = np.asarray(Y_true)\n",
    "#     Y_pred = np.asarray(Y_pred)\n",
    "\n",
    "#     return -np.sum(Y_true * np.log(Y_pred))\n",
    "\n",
    "\n",
    "# # Make sure that it works for a simple sample at a time\n",
    "# print(nll([1, 0, 0], [.99, 0.01, 0]))"
   ]
  },
  {
   "cell_type": "markdown",
   "metadata": {},
   "source": [
    "Check that the nll of a very confident yet bad prediction is a much higher positive number:"
   ]
  },
  {
   "cell_type": "code",
   "execution_count": 16,
   "metadata": {},
   "outputs": [],
   "source": [
    "# print(nll([1, 0, 0], [0.01, 0.01, .98]))"
   ]
  },
  {
   "cell_type": "markdown",
   "metadata": {},
   "source": [
    "Make sure that your implementation can compute the average negative log likelihood of a group of predictions: `Y_pred` and `Y_true` can therefore be past as 2D arrays:"
   ]
  },
  {
   "cell_type": "code",
   "execution_count": 17,
   "metadata": {},
   "outputs": [],
   "source": [
    "# def nll(Y_true, Y_pred):\n",
    "#     Y_true = np.atleast_2d(Y_true)\n",
    "#     Y_pred = np.atleast_2d(Y_pred)\n",
    "\n",
    "#     # TODO\n",
    "#     return 0."
   ]
  },
  {
   "cell_type": "code",
   "execution_count": 18,
   "metadata": {},
   "outputs": [],
   "source": [
    "# # Check that the average NLL of the following 3 almost perfect\n",
    "# # predictions is close to 0\n",
    "# Y_true = np.array([[0, 1, 0],\n",
    "#                    [1, 0, 0],\n",
    "#                    [0, 0, 1]])\n",
    "\n",
    "# Y_pred = np.array([[0,   1,    0],\n",
    "#                    [.99, 0.01, 0],\n",
    "#                    [0,   0,    1]])\n",
    "\n",
    "# print(nll(Y_true, Y_pred))"
   ]
  },
  {
   "cell_type": "code",
   "execution_count": 19,
   "metadata": {},
   "outputs": [],
   "source": [
    "# # %load solutions/numpy_nll.py\n",
    "# EPSILON = 1e-8\n",
    "\n",
    "\n",
    "# def nll(Y_true, Y_pred):\n",
    "#     Y_true, Y_pred = np.atleast_2d(Y_true), np.atleast_2d(Y_pred)\n",
    "#     loglikelihoods = np.sum(np.log(EPSILON + Y_pred) * Y_true, axis=1)\n",
    "#     return -np.mean(loglikelihoods)\n",
    "\n",
    "\n",
    "# # Make sure that it works for a simple sample at a time\n",
    "# print(nll([1, 0, 0], [.99, 0.01, 0]))\n",
    "\n",
    "# # Check that the nll of a very confident yet bad prediction\n",
    "# # is very high:\n",
    "# print(nll([1, 0, 0], [0.01, 0.01, .98]))\n",
    "\n",
    "# # Check that the average NLL of the following 3 almost perfect\n",
    "# # predictions is close to 0\n",
    "# Y_true = np.array([[0, 1, 0],\n",
    "#                    [1, 0, 0],\n",
    "#                    [0, 0, 1]])\n",
    "\n",
    "# Y_pred = np.array([[0,   1,    0],\n",
    "#                    [.99, 0.01, 0],\n",
    "#                    [0,   0,    1]])\n",
    "# print(nll(Y_true, Y_pred))"
   ]
  },
  {
   "cell_type": "markdown",
   "metadata": {},
   "source": [
    "Let us now study the following linear model trainable by SGD, **one sample at a time**."
   ]
  },
  {
   "cell_type": "code",
   "execution_count": 20,
   "metadata": {},
   "outputs": [],
   "source": [
    "# class LogisticRegression():\n",
    "\n",
    "    \n",
    "#     def __init__(self, input_size, output_size):\n",
    "#         self.W = np.random.uniform(size=(input_size, output_size),\n",
    "#                                    high=0.1, low=-0.1)\n",
    "#         self.b = np.random.uniform(size=output_size,\n",
    "#                                    high=0.1, low=-0.1)\n",
    "        \n",
    "#         self.output_size = output_size\n",
    "        \n",
    "#     def forward(self, X):\n",
    "#         Z = np.dot(X, self.W) + self.b\n",
    "#         return softmax(Z)\n",
    "    \n",
    "#     # this returns a vector 1500x1:\n",
    "#     # that is the maximum prob. over axis=1 which is on [0, 1, 2, \\dots, 9]\n",
    "#     # and the axis=0 is say 1500 where we have 1500 images each of these\n",
    "#     # image was originally 8x8 and then transformed into 1x64\n",
    "#     def predict(self, X):\n",
    "#         if len(X.shape) == 1:\n",
    "#             return np.argmax(self.forward(X))\n",
    "#         else:\n",
    "#             return np.argmax(self.forward(X), axis=1)\n",
    "    \n",
    "#     def grad_loss(self, x, y_true):\n",
    "#         y_pred = self.forward(x)\n",
    "#         dnll_output =  y_pred - one_hot(self.output_size, y_true)\n",
    "#         grad_W = np.outer(x, dnll_output)\n",
    "#         grad_b = dnll_output\n",
    "#         grads = {\"W\": grad_W, \"b\": grad_b}\n",
    "        \n",
    "#         return grads\n",
    "    \n",
    "#     def train(self, x, y, learning_rate):\n",
    "#         # Traditional SGD update without momentum\n",
    "#         grads = self.grad_loss(x, y)\n",
    "#         self.W = self.W - learning_rate * grads[\"W\"]\n",
    "#         self.b = self.b - learning_rate * grads[\"b\"]      \n",
    "        \n",
    "#     def loss(self, X, y):\n",
    "#         return nll(one_hot(self.output_size, y), self.forward(X))\n",
    "\n",
    "#     def accuracy(self, X, y):\n",
    "#         y_preds = np.argmax(self.forward(X), axis=1)\n",
    "#         return np.mean(y_preds == y)"
   ]
  },
  {
   "cell_type": "markdown",
   "metadata": {},
   "source": [
    "formula (15) is from https://www.kamperh.com/notes/kamper_backprop17.pdf"
   ]
  },
  {
   "attachments": {
    "image.png": {
     "image/png": "[encoded data removed]"
    }
   },
   "cell_type": "markdown",
   "metadata": {},
   "source": [
    "![image.png](attachment:image.png)"
   ]
  },
  {
   "cell_type": "code",
   "execution_count": 21,
   "metadata": {},
   "outputs": [],
   "source": [
    "# # Build a model and test its forward inference\n",
    "# n_features = X_train.shape[1]\n",
    "# n_classes  = len(np.unique(y_train))\n",
    "# lr         = LogisticRegression(n_features, n_classes)\n",
    "\n",
    "# print(\"Evaluation of the untrained model:\")\n",
    "# train_loss = lr.loss(X_train, y_train)\n",
    "# train_acc  = lr.accuracy(X_train, y_train)\n",
    "# test_acc   = lr.accuracy(X_test, y_test)\n",
    "\n",
    "# print(\"train loss: %0.4f, train acc: %0.3f, test acc: %0.3f\"\n",
    "#       % (train_loss, train_acc, test_acc))"
   ]
  },
  {
   "cell_type": "markdown",
   "metadata": {},
   "source": [
    "Evaluate the randomly initialized model on the first example:"
   ]
  },
  {
   "cell_type": "code",
   "execution_count": 22,
   "metadata": {},
   "outputs": [],
   "source": [
    "# def plot_prediction(model, sample_idx=0, classes=range(10)):\n",
    "#     fig, (ax0, ax1) = plt.subplots(nrows=1, ncols=2, figsize=(10, 4))\n",
    "\n",
    "#     ax0.imshow(scaler.inverse_transform(X_test[sample_idx]).reshape(8, 8), cmap=plt.cm.gray_r,\n",
    "#                interpolation='nearest')\n",
    "#     ax0.set_title(\"True image label: %d\" % y_test[sample_idx]);\n",
    "\n",
    "\n",
    "#     ax1.bar(classes, one_hot(len(classes), y_test[sample_idx]), label='true')\n",
    "#     ax1.bar(classes, model.forward(X_test[sample_idx]), label='prediction', color=\"red\")\n",
    "#     ax1.set_xticks(classes)\n",
    "#     prediction = model.predict(X_test[sample_idx])\n",
    "#     ax1.set_title('Output probabilities (prediction: %d)'\n",
    "#                   % prediction)\n",
    "#     ax1.set_xlabel('Digit class')\n",
    "#     ax1.legend()\n",
    "    \n",
    "# plot_prediction(lr, sample_idx=0)"
   ]
  },
  {
   "cell_type": "code",
   "execution_count": 23,
   "metadata": {},
   "outputs": [],
   "source": [
    "# # Training for one epoch\n",
    "# learning_rate = 0.01\n",
    "\n",
    "# for i, (x, y) in enumerate(zip(X_train, y_train)):\n",
    "#     lr.train(x, y, learning_rate)\n",
    "#     if i % 100 == 0:\n",
    "#         train_loss = lr.loss(X_train, y_train)\n",
    "#         train_acc = lr.accuracy(X_train, y_train)\n",
    "#         test_acc = lr.accuracy(X_test, y_test)\n",
    "#         print(\"Update #%d, train loss: %0.4f, train acc: %0.3f, test acc: %0.3f\"\n",
    "#               % (i, train_loss, train_acc, test_acc))"
   ]
  },
  {
   "cell_type": "markdown",
   "metadata": {},
   "source": [
    "Evaluate the trained model on the first example:"
   ]
  },
  {
   "cell_type": "code",
   "execution_count": 24,
   "metadata": {},
   "outputs": [],
   "source": [
    "# plot_prediction(lr, sample_idx=0)"
   ]
  },
  {
   "cell_type": "markdown",
   "metadata": {},
   "source": [
    "## b) Feedforward Multilayer\n",
    "\n",
    "The objective of this section is to implement the backpropagation algorithm (SGD with the chain rule) on a single layer neural network using the sigmoid activation function.\n",
    "\n",
    "- Implement the `sigmoid` and its element-wise derivative `dsigmoid` functions:\n",
    "\n",
    "$$\n",
    "sigmoid(x) = \\frac{1}{1 + e^{-x}}\n",
    "$$\n",
    "\n",
    "$$\n",
    "dsigmoid(x) = sigmoid(x) \\cdot (1 - sigmoid(x))\n",
    "$$"
   ]
  },
  {
   "cell_type": "code",
   "execution_count": 25,
   "metadata": {},
   "outputs": [
    {
     "data": {
      "image/png": "[encoded data removed]",
      "text/plain": [
       "<Figure size 432x288 with 1 Axes>"
      ]
     },
     "metadata": {
      "needs_background": "light"
     },
     "output_type": "display_data"
    }
   ],
   "source": [
    "def sigmoid(X):\n",
    "    return 1 / (1 + np.exp(-X))\n",
    "    \n",
    "\n",
    "def dsigmoid(X):\n",
    "    return sigmoid(X) * (1 - sigmoid(X))\n",
    "\n",
    "\n",
    "x = np.linspace(-5, 5, 100)\n",
    "plt.plot(x, sigmoid(x), label='sigmoid')\n",
    "plt.plot(x, dsigmoid(x), label='dsigmoid')\n",
    "plt.legend(loc='best');"
   ]
  },
  {
   "cell_type": "code",
   "execution_count": 26,
   "metadata": {},
   "outputs": [
    {
     "data": {
      "image/png": "[encoded data removed]",
      "text/plain": [
       "<Figure size 432x288 with 1 Axes>"
      ]
     },
     "metadata": {
      "needs_background": "light"
     },
     "output_type": "display_data"
    }
   ],
   "source": [
    "# %load solutions/sigmoid.py\n",
    "def sigmoid(X):\n",
    "    return 1 / (1 + np.exp(-X))\n",
    "\n",
    "\n",
    "def dsigmoid(X):\n",
    "    sig=sigmoid(X)\n",
    "    return sig * (1 - sig)\n",
    "\n",
    "\n",
    "x = np.linspace(-5, 5, 100)\n",
    "plt.plot(x, sigmoid(x), label='sigmoid')\n",
    "plt.plot(x, dsigmoid(x), label='dsigmoid')\n",
    "plt.legend(loc='best');"
   ]
  },
  {
   "cell_type": "markdown",
   "metadata": {},
   "source": [
    "- Implement `forward` and `forward_keep_all` functions for a model with a hidden layer with a sigmoid activation function:\n",
    "  - $\\mathbf{h} = sigmoid(\\mathbf{W}^h \\mathbf{x} + \\mathbf{b^h})$\n",
    "  - $\\mathbf{y} = softmax(\\mathbf{W}^o \\mathbf{h} + \\mathbf{b^o})$\n",
    "\n",
    "- Notes: \n",
    "  - try to keep the code as similar as possible as the previous one;\n",
    "  - `forward` now has a keep activations parameter to also return hidden activations and pre activations;\n",
    "\n",
    "- Update the grad function to compute all gradients; check that the gradients are well defined;\n",
    "\n",
    "- Implement the `train` and `loss` functions.\n",
    "\n",
    "**Bonus**: reimplementing all from scratch only using the lecture slides but without looking at the solution of the `LogisticRegression` is an excellent exercise."
   ]
  },
  {
   "cell_type": "code",
   "execution_count": 27,
   "metadata": {},
   "outputs": [],
   "source": [
    "EPSILON = 1e-8\n",
    "\n",
    "\n",
    "class NeuralNet():\n",
    "    \"\"\"MLP with 1 hidden layer with a sigmoid activation\"\"\"\n",
    "    \n",
    "    def __init__(self, input_size, hidden_size, output_size):\n",
    "        # TODO\n",
    "        self.W_h = None\n",
    "        self.b_h = None\n",
    "        self.W_o = None\n",
    "        self.b_o = None\n",
    "        self.output_size = output_size\n",
    "            \n",
    "    def forward_keep_activations(self, X):\n",
    "        # TODO\n",
    "        z_h = W_o * h + b\n",
    "        h = softmax(z_h)\n",
    "        y = np.zeros(size=self.output_size)\n",
    "        return y, h, z_h\n",
    "\n",
    "    def forward(self, X):\n",
    "        y, h, z_h = self.forward_keep_activations(X)\n",
    "        return y\n",
    "    \n",
    "    def loss(self, X, y):\n",
    "        # TODO\n",
    "        return 42.\n",
    "\n",
    "    def grad_loss(self, x, y_true):\n",
    "        # TODO\n",
    "        return {\"W_h\": 0., \"b_h\": 0., \"W_o\": 0., \"b_o\": 0.}\n",
    "\n",
    "    def train(self, x, y, learning_rate):\n",
    "        # TODO\n",
    "        pass\n",
    "\n",
    "    def predict(self, X):\n",
    "        if len(X.shape) == 1:\n",
    "            return np.argmax(self.forward(X))\n",
    "        else:\n",
    "            return np.argmax(self.forward(X), axis=1)\n",
    "\n",
    "    def accuracy(self, X, y):\n",
    "        y_preds = np.argmax(self.forward(X), axis=1)\n",
    "        return np.mean(y_preds == y)"
   ]
  },
  {
   "cell_type": "code",
   "execution_count": 28,
   "metadata": {},
   "outputs": [],
   "source": [
    "# %load solutions/neural_net.py"
   ]
  },
  {
   "cell_type": "code",
   "execution_count": 29,
   "metadata": {},
   "outputs": [],
   "source": [
    "# # %load solutions/neural_net.py\n",
    "class NeuralNet():\n",
    "    \"\"\"MLP with 1 hidden layer with a sigmoid activation\"\"\"\n",
    "\n",
    "    def __init__(self, input_size, hidden_size, output_size):\n",
    "        self.W_h = np.random.uniform(\n",
    "            size=(input_size, hidden_size), high=0.01, low=-0.01)\n",
    "        self.b_h = np.zeros(hidden_size)\n",
    "        self.W_o = np.random.uniform(\n",
    "            size=(hidden_size, output_size), high=0.01, low=-0.01)\n",
    "        self.b_o = np.zeros(output_size)\n",
    "        self.output_size = output_size\n",
    "\n",
    "    def forward(self, X, keep_activations=False):\n",
    "        z_h = np.dot(X, self.W_h) + self.b_h\n",
    "        h = sigmoid(z_h)\n",
    "        z_o = np.dot(h, self.W_o) + self.b_o\n",
    "        y = softmax(z_o)\n",
    "        if keep_activations:\n",
    "            return y, h, z_h\n",
    "        else:\n",
    "            return y\n",
    "\n",
    "    def loss(self, X, y):\n",
    "        return nll(one_hot(self.output_size, y), self.forward(X))\n",
    "\n",
    "    \n",
    "    def grad_loss(self, x, y_true):\n",
    "        y, h, z_h = self.forward(x, keep_activations=True)\n",
    "        grad_z_o = y - one_hot(self.output_size, y_true)\n",
    "\n",
    "        grad_W_o = np.outer(h, grad_z_o)\n",
    "        grad_b_o = grad_z_o\n",
    "        \n",
    "        grad_h = np.dot(grad_z_o, np.transpose(self.W_o))\n",
    "        grad_z_h = grad_h * dsigmoid(z_h)\n",
    "        \n",
    "        grad_W_h = np.outer(x, grad_z_h)\n",
    "        grad_b_h = grad_z_h\n",
    "        \n",
    "        grads = {\"W_h\": grad_W_h, \"b_h\": grad_b_h,\n",
    "                 \"W_o\": grad_W_o, \"b_o\": grad_b_o}\n",
    "        return grads\n",
    "\n",
    "    def train(self, x, y, learning_rate):\n",
    "        # Traditional SGD update on one sample at a time\n",
    "        grads = self.grad_loss(x, y)\n",
    "        self.W_h = self.W_h - learning_rate * grads[\"W_h\"]\n",
    "        self.b_h = self.b_h - learning_rate * grads[\"b_h\"]\n",
    "        self.W_o = self.W_o - learning_rate * grads[\"W_o\"]\n",
    "        self.b_o = self.b_o - learning_rate * grads[\"b_o\"]\n",
    "\n",
    "    def predict(self, X):\n",
    "        if len(X.shape) == 1:\n",
    "            return np.argmax(self.forward(X))\n",
    "        else:\n",
    "            return np.argmax(self.forward(X), axis=1)\n",
    "\n",
    "    def accuracy(self, X, y):\n",
    "        y_preds = np.argmax(self.forward(X), axis=1)\n",
    "        return np.mean(y_preds == y)\n"
   ]
  },
  {
   "cell_type": "code",
   "execution_count": 30,
   "metadata": {},
   "outputs": [],
   "source": [
    "# fn_softmax(np.ones(10)) * fn_softmax(np.ones(10))"
   ]
  },
  {
   "cell_type": "code",
   "execution_count": 31,
   "metadata": {},
   "outputs": [
    {
     "name": "stdout",
     "output_type": "stream",
     "text": [
      "9\n",
      "8\n",
      "7\n",
      "6\n",
      "5\n",
      "4\n",
      "3\n",
      "2\n",
      "1\n",
      "0\n"
     ]
    }
   ],
   "source": [
    "for i in reversed(range(10)):\n",
    "    print(i)"
   ]
  },
  {
   "cell_type": "code",
   "execution_count": 78,
   "metadata": {},
   "outputs": [],
   "source": [
    "# TODO: DEFINE DIFFERENT FUNCTIONS AND THEIR DERIVS.        \n",
    "act_fn = lambda u: 1 / (1 + np.exp(-u))\n",
    "derivative_act_fn = lambda u: act_fn(u) * (1 - act_fn(u))\n",
    "fn_softmax = lambda u: np.exp(u) / sum(np.exp(u))\n",
    "derivative_fn_softmax = lambda u: fn_softmax(u) * (1 - fn_softmax(u))\n",
    "\n",
    "\n",
    "class NeuralNetMultiLayer():\n",
    "    \"\"\"MLP\"\"\"\n",
    "    \n",
    "    def __init__(self, layers_specs, dim_input=None):\n",
    "        \"\"\"\n",
    "        network: is a list of layers\n",
    "        \"\"\"\n",
    "        dim_prev_layer = dim_input\n",
    "        self.network = []\n",
    "        for index, layer_spec in enumerate(layers_specs):\n",
    "            number_of_neurons, act_fn = layer_spec\n",
    "            self.network.append(self.layer(layer_spec, dim_prev_layer, index=index))\n",
    "            dim_prev_layer = number_of_neurons\n",
    "       \n",
    "        self.output_size, _ = layers_specs[-1]\n",
    "        \n",
    "    def layer(self, spec, dim_input=None, index=0, init_distribution=(-0.01, 0.01)):\n",
    "        \"\"\"\n",
    "        sig, th, relu, \n",
    "        \"\"\"\n",
    "        \n",
    "        number_of_neurons, act_fn = spec\n",
    "        low, high = init_distribution\n",
    "        \n",
    "        print(\"layer index:\", index)\n",
    "        print(\"spec :\", spec)\n",
    "        print(\"W dim:\", number_of_neurons, dim_input)\n",
    "        \n",
    "        W = np.random.uniform(low=low, high=high, size=(number_of_neurons, dim_input)) # W*x\n",
    "\n",
    "        # this is very important; \n",
    "        # size specifies only one dimension \n",
    "        # so numpy creates a vector; \n",
    "        # e.g. (3, 1) is still treated as a matrix and affects MUL\n",
    "        # but (3, ) is a vector!\n",
    "        # so the following is wrong\n",
    "        # bias = np.random.uniform(low=low, high=high, size=(number_of_neurons, 1))\n",
    "        # but this is correct:\n",
    "        bias = np.random.uniform(low=low, high=high, size=(number_of_neurons, ))\n",
    "        return (W, bias, act_fn)\n",
    "    \n",
    "    def forward(self, x_input, init_distribution=(-0.01, 0.01)):\n",
    "        \n",
    "        \"\"\"additionally we store intermediate \n",
    "        computations over each layer in the list\n",
    "        `output_over_layer`;\n",
    "        we need the results to calculate \n",
    "        gradient of individual layers\n",
    "        in a back-propagation (below)\n",
    "        \"\"\"\n",
    "        \n",
    "        low, high = init_distribution\n",
    "        \n",
    "        lst_x = []\n",
    "        lst_z = []\n",
    "        lst_y = []\n",
    "        \n",
    "        \n",
    "        x = x_input \n",
    "        for index, layer in enumerate(self.network):\n",
    "            lst_x.append(x)\n",
    "            (W, bias, act_fn) = layer\n",
    "#             print(\"index     :\", index)\n",
    "#             print(\"W.shape   :\", W.shape)\n",
    "#             print(\"tmp.shape :\", tmp.shape)\n",
    "#             print(\"prod.shape:\", np.dot(W, tmp).shape)\n",
    "#             print(\"bias.shape:\", bias.shape)\n",
    "#             print(\"act. fnct :\", act_fn)\n",
    "            \n",
    "            z = np.dot(W, x) + bias\n",
    "            lst_z.append(z)\n",
    "            y = act_fn(z)\n",
    "            lst_y.append(y)\n",
    "            x = y\n",
    "        \n",
    "        return lst_x, lst_z, lst_y\n",
    "    \n",
    "    \n",
    "    # TODO: check the rate init. value!\n",
    "    def backpropagate(self, x, y_target, eta=0.01): \n",
    "     \n",
    "        lst_x, lst_z, lst_y = self.forward(x) \n",
    "        # get the last elements\n",
    "        x = lst_x[-1]\n",
    "        z = lst_z[-1]\n",
    "        y = lst_y[-1]\n",
    "        \n",
    "        \n",
    "        #-----------------------------------------------------\n",
    "        # list of deltas\n",
    "        #-----------------------------------------------------\n",
    "        lst_delta = []\n",
    "        #-----------------------------------------------------\n",
    "        \n",
    "        \n",
    "        #-----------------------------------------------------\n",
    "        # J stands for value of the optimization function\n",
    "        # Energy, Loss, Error;\n",
    "        J = np.sum((y - y_target) ** 2)\n",
    "        derivative_J = 2 * (y - y_target) # this is delta(loss) / delta(a_last) \n",
    "        \n",
    "        # importantly: here * is the component-wise vector multiplication \n",
    "        # it is not dot-product\n",
    "        \n",
    "        delta = derivative_J * derivative_fn_softmax(z) \n",
    "        lst_delta.append(delta)\n",
    "        \n",
    "        nabla_JW = np.outer(delta, x)\n",
    "        nabla_Jb = delta\n",
    "        \n",
    "            \n",
    "        #-----------------------------------------------------\n",
    "        # to update the last layer\n",
    "        #-----------------------------------------------------\n",
    "        layer = self.network[-1]\n",
    "        (W, bias, act_fn) = layer\n",
    "        W = W - eta * nabla_JW\n",
    "        bias = bias - eta * nabla_Jb\n",
    "        self.network[-1] = (W, bias, act_fn)\n",
    "        #-----------------------------------------------------\n",
    "        \n",
    "    \n",
    "#         print(\"* shapes W:\", W.shape)\n",
    "#         print(\"* shapes delta_z:\", delta_z.shape)\n",
    "#         print(\"* shapes y_prev:\", y_prev.shape)\n",
    "#         print(\"* shapes W:\", W.shape)\n",
    "#         print(\"* shapes delta_z:\", delta_z.shape)\n",
    "#         print(\"* shapes y_prev:\", y_prev.shape)\n",
    "            \n",
    "    \n",
    "        # in the following loop we do a backprop and *prepend* deltas \n",
    "        # index is going in the reverse way: \n",
    "        for ind in reversed(range(len(self.network) - 1)): \n",
    "#             print(\"index:\", ind)\n",
    "            x = lst_x[ind]\n",
    "            z = lst_z[ind]\n",
    "            y = lst_y[ind]\n",
    "        \n",
    "#             if ind > 0: \n",
    "#                 y_prev = lst_y[ind - 1]\n",
    "#             else: \n",
    "#                 y_prev = x\n",
    "                \n",
    "            #-----------------------------------------------------\n",
    "            layer = self.network[ind]\n",
    "            (W, bias, act_fn) = layer\n",
    "            \n",
    "            layer_next = self.network[ind + 1] \n",
    "            (W_next, bias_next, act_fn_next) = layer_next\n",
    "            #-----------------------------------------------------\n",
    "      \n",
    "            # vector_one := derivative_sigma^{nu}(z^{nu}) \n",
    "            # vector_two := (transpose(W^{nu + 1}) * delta^{nu + 1})\n",
    "            # delta^{nu} := component_multiplication(vector_one, vector_two)\n",
    "\n",
    "            # b/c we prepend delta to the list lst_delta and loop-backward\n",
    "            delta_next = lst_delta[0]\n",
    "            \n",
    "            # here * is not a dot-product\n",
    "            delta = derivative_act_fn(z) * np.dot(np.transpose(W_next), delta_next) \n",
    "            #prepend delta to the list\n",
    "            lst_delta = [delta] + lst_delta\n",
    "\n",
    "            nabla_JW = np.outer(delta, x)\n",
    "            nabla_Jb = delta\n",
    "            \n",
    "            W = W - eta * nabla_JW\n",
    "            bias = bias - eta * nabla_Jb\n",
    "            self.network[ind] = (W, bias, act_fn)\n",
    "            \n",
    "            \n",
    "#             print(\"** shapes W:\", W.shape)\n",
    "#             print(\"** shapes delta_next_z:\", delta_z_next.shape)\n",
    "#             print(\"** shapes y_prev:\", y_prev.shape)\n",
    "#             print(\"** shapes delta_z:\", delta_z.shape\n",
    "#             print(\"B: shapes:\", delta_z.shape, y_prev.T.shape)\n",
    "\n",
    "            # derivate: map from function to function\n",
    "            # derivative_act_fn = map_derivative[act_fn]\n",
    "            \n",
    "        \n",
    "        return 0\n",
    "            \n",
    "            \n",
    "# ----------------------------------------------------------------------------------\n",
    "    # TODO: WE WILL SPECIFY A LOSS_FUNCTION \n",
    "    # WE USE A SQUARE ERROR FUNCTION \n",
    "    # LATER WE WILL SPECIFY AND WRITE THIS loss-fn\n",
    "# ----------------------------------------------------------------------------------"
   ]
  },
  {
   "cell_type": "code",
   "execution_count": 79,
   "metadata": {},
   "outputs": [],
   "source": [
    "# --------------------------------------------\n",
    "# out = sigma_3(a_3)\n",
    "# out = sigma_3 (W_3 * x_3)\n",
    "# out = softmax (z_3) = a_3 = y_3\n",
    "# --------------------------------------------"
   ]
  },
  {
   "cell_type": "code",
   "execution_count": 80,
   "metadata": {},
   "outputs": [
    {
     "name": "stdout",
     "output_type": "stream",
     "text": [
      "layer index: 0\n",
      "spec : (20, <function <lambda> at 0x7fa06d679320>)\n",
      "W dim: 20 64\n",
      "layer index: 1\n",
      "spec : (25, <function <lambda> at 0x7fa06d679320>)\n",
      "W dim: 25 20\n",
      "layer index: 2\n",
      "spec : (10, <function <lambda> at 0x7fa06d6dd290>)\n",
      "W dim: 10 25\n"
     ]
    }
   ],
   "source": [
    "init_distribution = (-0.01, 0.01)\n",
    "layers_specs = [(20, act_fn), \n",
    "                (25, act_fn), \n",
    "#                 (30, act_fn), \n",
    "                (10, fn_softmax),\n",
    "                ]\n",
    "\n",
    "nn = NeuralNetMultiLayer(layers_specs=layers_specs, dim_input=64)"
   ]
  },
  {
   "cell_type": "code",
   "execution_count": 81,
   "metadata": {},
   "outputs": [],
   "source": [
    "# # test input:\n",
    "# print(X_train.size)\n",
    "# x_input = X_train[0]\n",
    "# print(type(x_input), x_input.shape)\n",
    "# print(x_input)"
   ]
  },
  {
   "cell_type": "code",
   "execution_count": 82,
   "metadata": {},
   "outputs": [],
   "source": [
    "# z_lst, y_lst = nn.forward(x_input)"
   ]
  },
  {
   "cell_type": "code",
   "execution_count": 83,
   "metadata": {},
   "outputs": [],
   "source": [
    "# z_lst"
   ]
  },
  {
   "cell_type": "code",
   "execution_count": 84,
   "metadata": {},
   "outputs": [],
   "source": [
    "# y_lst"
   ]
  },
  {
   "cell_type": "code",
   "execution_count": 85,
   "metadata": {},
   "outputs": [],
   "source": [
    "# print(sum(y))\n",
    "# print(y)"
   ]
  },
  {
   "cell_type": "code",
   "execution_count": null,
   "metadata": {},
   "outputs": [],
   "source": []
  },
  {
   "cell_type": "markdown",
   "metadata": {},
   "source": [
    "### this is the backprop part"
   ]
  },
  {
   "cell_type": "code",
   "execution_count": 86,
   "metadata": {},
   "outputs": [],
   "source": [
    "x_input = X_train[0]\n",
    "# x_input"
   ]
  },
  {
   "cell_type": "code",
   "execution_count": 87,
   "metadata": {},
   "outputs": [
    {
     "data": {
      "text/plain": [
       "2"
      ]
     },
     "execution_count": 87,
     "metadata": {},
     "output_type": "execute_result"
    }
   ],
   "source": [
    "y_target = y_train[0]\n",
    "y_target"
   ]
  },
  {
   "cell_type": "code",
   "execution_count": 88,
   "metadata": {},
   "outputs": [],
   "source": [
    "lst_delta = nn.backpropagate(x_input, y_target)"
   ]
  },
  {
   "cell_type": "code",
   "execution_count": 89,
   "metadata": {},
   "outputs": [],
   "source": [
    "# lst_delta"
   ]
  },
  {
   "cell_type": "code",
   "execution_count": 111,
   "metadata": {},
   "outputs": [
    {
     "name": "stdout",
     "output_type": "stream",
     "text": [
      "layer index: 0\n",
      "spec : (20, <function <lambda> at 0x7fa06d679320>)\n",
      "W dim: 20 64\n",
      "layer index: 1\n",
      "spec : (25, <function <lambda> at 0x7fa06d679320>)\n",
      "W dim: 25 20\n",
      "layer index: 2\n",
      "spec : (30, <function <lambda> at 0x7fa06d679320>)\n",
      "W dim: 30 25\n",
      "layer index: 3\n",
      "spec : (10, <function <lambda> at 0x7fa06d6dd290>)\n",
      "W dim: 10 30\n",
      "################################################################################\n",
      "i-th element: 0\n",
      "y: [7] [0. 0. 0. 0. 0. 0. 0. 1. 0. 0.]\n",
      "--------------------------------------------------------------------------------\n",
      "results after 100 iterations; argmax and prob. distr for softmax:\n",
      "--------------------------------------------------------------------------------\n",
      "7 [0.0532848  0.05142347 0.05287687 0.05199344 0.0545426  0.052849\n",
      " 0.05283433 0.52163864 0.05455444 0.05400242]\n",
      "################################################################################\n",
      "i-th element: 1\n",
      "y: [0] [1. 0. 0. 0. 0. 0. 0. 0. 0. 0.]\n",
      "--------------------------------------------------------------------------------\n",
      "results after 100 iterations; argmax and prob. distr for softmax:\n",
      "--------------------------------------------------------------------------------\n",
      "0 [0.35729102 0.05626632 0.05765869 0.05681332 0.05924101 0.05763326\n",
      " 0.05762031 0.17949819 0.05924812 0.05872975]\n",
      "################################################################################\n",
      "i-th element: 2\n",
      "y: [0] [1. 0. 0. 0. 0. 0. 0. 0. 0. 0.]\n",
      "--------------------------------------------------------------------------------\n",
      "results after 100 iterations; argmax and prob. distr for softmax:\n",
      "--------------------------------------------------------------------------------\n",
      "0 [0.75792008 0.02201256 0.02253717 0.02222238 0.02313947 0.02253614\n",
      " 0.02252729 0.06100552 0.02314711 0.02295229]\n",
      "################################################################################\n",
      "i-th element: 3\n",
      "y: [1] [0. 1. 0. 0. 0. 0. 0. 0. 0. 0.]\n",
      "--------------------------------------------------------------------------------\n",
      "results after 100 iterations; argmax and prob. distr for softmax:\n",
      "--------------------------------------------------------------------------------\n",
      "0 [0.27586204 0.17521322 0.05906017 0.05828765 0.06048824 0.05903343\n",
      " 0.0590227  0.13251456 0.0604922  0.06002578]\n",
      "################################################################################\n",
      "i-th element: 4\n",
      "y: [9] [0. 0. 0. 0. 0. 0. 0. 0. 0. 1.]\n",
      "--------------------------------------------------------------------------------\n",
      "results after 100 iterations; argmax and prob. distr for softmax:\n",
      "--------------------------------------------------------------------------------\n",
      "9 [0.14523714 0.11911653 0.05367901 0.05305163 0.05483189 0.05365763\n",
      " 0.05364741 0.1010902  0.05483341 0.31085514]\n",
      "################################################################################\n",
      "i-th element: 5\n",
      "y: [8] [0. 0. 0. 0. 0. 0. 0. 0. 1. 0.]\n",
      "--------------------------------------------------------------------------------\n",
      "results after 100 iterations; argmax and prob. distr for softmax:\n",
      "--------------------------------------------------------------------------------\n",
      "8 [0.11373756 0.10028727 0.05288688 0.05232836 0.05390441 0.05286587\n",
      " 0.05285774 0.08932338 0.27282124 0.15898729]\n",
      "################################################################################\n",
      "i-th element: 6\n",
      "y: [5] [0. 0. 0. 0. 0. 1. 0. 0. 0. 0.]\n",
      "--------------------------------------------------------------------------------\n",
      "results after 100 iterations; argmax and prob. distr for softmax:\n",
      "--------------------------------------------------------------------------------\n",
      "5 [0.09828175 0.08976559 0.05265875 0.05215442 0.05357116 0.24260813\n",
      " 0.05263091 0.08218373 0.15477681 0.12136877]\n",
      "################################################################################\n",
      "i-th element: 7\n",
      "y: [3] [0. 0. 0. 1. 0. 0. 0. 0. 0. 0.]\n",
      "--------------------------------------------------------------------------------\n",
      "results after 100 iterations; argmax and prob. distr for softmax:\n",
      "--------------------------------------------------------------------------------\n",
      "3 [0.08806831 0.08213656 0.05212599 0.22586884 0.05294387 0.14839194\n",
      " 0.05210178 0.07655838 0.11935757 0.10244676]\n",
      "################################################################################\n",
      "i-th element: 8\n",
      "y: [4] [0. 0. 0. 0. 1. 0. 0. 0. 0. 0.]\n",
      "--------------------------------------------------------------------------------\n",
      "results after 100 iterations; argmax and prob. distr for softmax:\n",
      "--------------------------------------------------------------------------------\n",
      "4 [0.0796286  0.07528654 0.05074206 0.14253073 0.2258649  0.11489086\n",
      " 0.05072004 0.07104678 0.09982435 0.08946514]\n",
      "################################################################################\n",
      "i-th element: 9\n",
      "y: [0] [1. 0. 0. 0. 0. 0. 0. 0. 0. 0.]\n",
      "--------------------------------------------------------------------------------\n",
      "results after 100 iterations; argmax and prob. distr for softmax:\n",
      "--------------------------------------------------------------------------------\n",
      "0 [0.43479677 0.05165266 0.03614119 0.08462632 0.10975933 0.07273001\n",
      " 0.03613164 0.04910223 0.06529123 0.05976863]\n",
      "################################################################################\n",
      "i-th element: 10\n",
      "y: [8] [0. 0. 0. 0. 0. 0. 0. 0. 1. 0.]\n",
      "--------------------------------------------------------------------------------\n",
      "results after 100 iterations; argmax and prob. distr for softmax:\n",
      "--------------------------------------------------------------------------------\n",
      "8 [0.15403614 0.04606639 0.03305115 0.07015703 0.0851244  0.06205584\n",
      " 0.03304188 0.04399628 0.42000326 0.05246763]\n",
      "################################################################################\n",
      "i-th element: 11\n",
      "y: [6] [0. 0. 0. 0. 0. 0. 1. 0. 0. 0.]\n",
      "--------------------------------------------------------------------------------\n",
      "results after 100 iterations; argmax and prob. distr for softmax:\n",
      "--------------------------------------------------------------------------------\n",
      "8 [0.15006091 0.06265462 0.04624095 0.08951254 0.10382737 0.08100818\n",
      " 0.12870902 0.06012877 0.20760806 0.07024958]\n",
      "################################################################################\n",
      "i-th element: 12\n",
      "y: [4] [0. 0. 0. 0. 1. 0. 0. 0. 0. 0.]\n",
      "--------------------------------------------------------------------------------\n",
      "results after 100 iterations; argmax and prob. distr for softmax:\n",
      "--------------------------------------------------------------------------------\n",
      "4 [0.07196287 0.03523126 0.02645203 0.04837304 0.54827488 0.04438901\n",
      " 0.06456929 0.03391184 0.08772201 0.03911376]\n",
      "################################################################################\n",
      "i-th element: 13\n",
      "y: [1] [0. 1. 0. 0. 0. 0. 0. 0. 0. 0.]\n",
      "--------------------------------------------------------------------------------\n",
      "results after 100 iterations; argmax and prob. distr for softmax:\n",
      "--------------------------------------------------------------------------------\n",
      "4 [0.0979295  0.19302346 0.04100423 0.07095731 0.21770398 0.06584911\n",
      " 0.09007742 0.05168954 0.11292045 0.058845  ]\n",
      "################################################################################\n",
      "i-th element: 14\n",
      "y: [1] [0. 1. 0. 0. 0. 0. 0. 0. 0. 0.]\n",
      "--------------------------------------------------------------------------------\n",
      "results after 100 iterations; argmax and prob. distr for softmax:\n",
      "--------------------------------------------------------------------------------\n",
      "1 [0.03879034 0.69198776 0.01702523 0.02894682 0.07078895 0.02698094\n",
      " 0.03602361 0.02137593 0.04384549 0.02423493]\n",
      "################################################################################\n",
      "i-th element: 15\n",
      "y: [6] [0. 0. 0. 0. 0. 0. 1. 0. 0. 0.]\n",
      "--------------------------------------------------------------------------------\n",
      "results after 100 iterations; argmax and prob. distr for softmax:\n",
      "--------------------------------------------------------------------------------\n",
      "6 [0.06631136 0.22162181 0.03102936 0.05108809 0.1064619  0.04789264\n",
      " 0.32010589 0.03853714 0.07359769 0.04335412]\n",
      "################################################################################\n",
      "i-th element: 16\n",
      "y: [7] [0. 0. 0. 0. 0. 0. 0. 1. 0. 0.]\n",
      "--------------------------------------------------------------------------------\n",
      "results after 100 iterations; argmax and prob. distr for softmax:\n",
      "--------------------------------------------------------------------------------\n",
      "6 [0.07857061 0.16570346 0.03966093 0.06278675 0.11254321 0.05927081\n",
      " 0.18631985 0.15543336 0.08554833 0.05416268]\n",
      "################################################################################\n",
      "i-th element: 17\n",
      "y: [2] [0. 0. 1. 0. 0. 0. 0. 0. 0. 0.]\n",
      "--------------------------------------------------------------------------------\n",
      "results after 100 iterations; argmax and prob. distr for softmax:\n",
      "--------------------------------------------------------------------------------\n",
      "6 [0.08100876 0.13518455 0.12693507 0.0670558  0.10639647 0.06376003\n",
      " 0.14358443 0.13048931 0.08673333 0.05885226]\n",
      "################################################################################\n",
      "i-th element: 18\n",
      "y: [1] [0. 1. 0. 0. 0. 0. 0. 0. 0. 0.]\n",
      "--------------------------------------------------------------------------------\n",
      "results after 100 iterations; argmax and prob. distr for softmax:\n",
      "--------------------------------------------------------------------------------\n",
      "1 [0.03717153 0.61827133 0.05424389 0.03127627 0.04706282 0.02984009\n",
      " 0.05954173 0.05541928 0.03950431 0.02766875]\n",
      "################################################################################\n",
      "i-th element: 19\n",
      "y: [1] [0. 1. 0. 0. 0. 0. 0. 0. 0. 0.]\n",
      "--------------------------------------------------------------------------------\n",
      "results after 100 iterations; argmax and prob. distr for softmax:\n",
      "--------------------------------------------------------------------------------\n",
      "1 [0.01839618 0.81188554 0.02663979 0.01549584 0.02320491 0.01478623\n",
      " 0.02914135 0.02719995 0.01954001 0.0137102 ]\n",
      "################################################################################\n",
      "i-th element: 20\n",
      "y: [4] [0. 0. 0. 0. 1. 0. 0. 0. 0. 0.]\n",
      "--------------------------------------------------------------------------------\n",
      "results after 100 iterations; argmax and prob. distr for softmax:\n",
      "--------------------------------------------------------------------------------\n",
      "1 [0.05339999 0.28446566 0.07449989 0.04551758 0.24522975 0.04355501\n",
      " 0.08048785 0.0758472  0.05643432 0.04056274]\n",
      "################################################################################\n",
      "i-th element: 21\n",
      "y: [0] [1. 0. 0. 0. 0. 0. 0. 0. 0. 0.]\n",
      "--------------------------------------------------------------------------------\n"
     ]
    },
    {
     "name": "stdout",
     "output_type": "stream",
     "text": [
      "results after 100 iterations; argmax and prob. distr for softmax:\n",
      "--------------------------------------------------------------------------------\n",
      "0 [0.27811595 0.15718129 0.0725573  0.04711722 0.14934248 0.04523935\n",
      " 0.07725491 0.07363318 0.05721865 0.04233967]\n",
      "################################################################################\n",
      "i-th element: 22\n",
      "y: [4] [0. 0. 0. 0. 1. 0. 0. 0. 0. 0.]\n",
      "--------------------------------------------------------------------------------\n",
      "results after 100 iterations; argmax and prob. distr for softmax:\n",
      "--------------------------------------------------------------------------------\n",
      "4 [0.08720214 0.06265124 0.03320948 0.02207219 0.6583239  0.02121696\n",
      " 0.03516712 0.03366393 0.02660402 0.01988902]\n",
      "################################################################################\n",
      "i-th element: 23\n",
      "y: [7] [0. 0. 0. 0. 0. 0. 0. 1. 0. 0.]\n",
      "--------------------------------------------------------------------------------\n",
      "results after 100 iterations; argmax and prob. distr for softmax:\n",
      "--------------------------------------------------------------------------------\n",
      "7 [0.12499712 0.09972024 0.05893854 0.04043895 0.22743433 0.03895581\n",
      " 0.06201919 0.2627099  0.04814829 0.03663764]\n",
      "################################################################################\n",
      "i-th element: 24\n",
      "y: [5] [0. 0. 0. 0. 0. 1. 0. 0. 0. 0.]\n",
      "--------------------------------------------------------------------------------\n",
      "results after 100 iterations; argmax and prob. distr for softmax:\n",
      "--------------------------------------------------------------------------------\n",
      "7 [0.12140716 0.10430692 0.06859795 0.04888597 0.16407338 0.14637964\n",
      " 0.07166516 0.17274634 0.05735003 0.04458744]\n",
      "################################################################################\n",
      "i-th element: 25\n",
      "y: [3] [0. 0. 0. 1. 0. 0. 0. 0. 0. 0.]\n",
      "--------------------------------------------------------------------------------\n",
      "results after 100 iterations; argmax and prob. distr for softmax:\n",
      "--------------------------------------------------------------------------------\n",
      "3 [0.1042024  0.09359009 0.06691334 0.1911221  0.12551133 0.11748458\n",
      " 0.06945447 0.12908106 0.05719487 0.04544576]\n",
      "################################################################################\n",
      "i-th element: 26\n",
      "y: [8] [0. 0. 0. 0. 0. 0. 0. 0. 1. 0.]\n",
      "--------------------------------------------------------------------------------\n",
      "results after 100 iterations; argmax and prob. distr for softmax:\n",
      "--------------------------------------------------------------------------------\n",
      "8 [0.08575654 0.07897899 0.05976353 0.12574661 0.09795925 0.09357688\n",
      " 0.06172851 0.0998341  0.25457183 0.04208375]\n",
      "################################################################################\n",
      "i-th element: 27\n",
      "y: [1] [0. 1. 0. 0. 0. 0. 0. 0. 0. 0.]\n",
      "--------------------------------------------------------------------------------\n",
      "results after 100 iterations; argmax and prob. distr for softmax:\n",
      "--------------------------------------------------------------------------------\n",
      "1 [0.05803718 0.43899825 0.04232915 0.07799821 0.06466093 0.06234449\n",
      " 0.04359244 0.06563946 0.11590185 0.03049806]\n",
      "################################################################################\n",
      "i-th element: 28\n",
      "y: [2] [0. 0. 1. 0. 0. 0. 0. 0. 0. 0.]\n",
      "--------------------------------------------------------------------------------\n",
      "results after 100 iterations; argmax and prob. distr for softmax:\n",
      "--------------------------------------------------------------------------------\n",
      "2 [0.06971468 0.19451661 0.20892851 0.08874842 0.07635588 0.07406499\n",
      " 0.05415282 0.07730456 0.11736543 0.0388481 ]\n",
      "################################################################################\n",
      "i-th element: 29\n",
      "y: [1] [0. 1. 0. 0. 0. 0. 0. 0. 0. 0.]\n",
      "--------------------------------------------------------------------------------\n",
      "results after 100 iterations; argmax and prob. distr for softmax:\n",
      "--------------------------------------------------------------------------------\n",
      "1 [0.02826185 0.69282493 0.06861111 0.03530026 0.03076443 0.02991541\n",
      " 0.02220201 0.03112292 0.04497352 0.01602356]\n",
      "################################################################################\n",
      "i-th element: 30\n",
      "y: [2] [0. 0. 1. 0. 0. 0. 0. 0. 0. 0.]\n",
      "--------------------------------------------------------------------------------\n",
      "results after 100 iterations; argmax and prob. distr for softmax:\n",
      "--------------------------------------------------------------------------------\n",
      "2 [0.02921412 0.15940486 0.59595752 0.03601411 0.03166267 0.03083701\n",
      " 0.02316425 0.03201043 0.04489522 0.0168398 ]\n",
      "################################################################################\n",
      "i-th element: 31\n",
      "y: [5] [0. 0. 0. 0. 0. 1. 0. 0. 0. 0.]\n",
      "--------------------------------------------------------------------------------\n",
      "results after 100 iterations; argmax and prob. distr for softmax:\n",
      "--------------------------------------------------------------------------------\n",
      "2 [0.05364627 0.17460273 0.23327792 0.06477189 0.05772486 0.20412058\n",
      " 0.04324807 0.058292   0.07837567 0.03194   ]\n",
      "################################################################################\n",
      "i-th element: 32\n",
      "y: [5] [0. 0. 0. 0. 0. 1. 0. 0. 0. 0.]\n",
      "--------------------------------------------------------------------------------\n",
      "results after 100 iterations; argmax and prob. distr for softmax:\n",
      "--------------------------------------------------------------------------------\n",
      "5 [0.02209396 0.06116288 0.0734921  0.02647999 0.02371232 0.70633335\n",
      " 0.01789401 0.0239408  0.03165106 0.01323954]\n",
      "################################################################################\n",
      "i-th element: 33\n",
      "y: [7] [0. 0. 0. 0. 0. 0. 0. 1. 0. 0.]\n",
      "--------------------------------------------------------------------------------\n",
      "results after 100 iterations; argmax and prob. distr for softmax:\n",
      "--------------------------------------------------------------------------------\n",
      "5 [0.05150864 0.12046844 0.13615184 0.0607708  0.05497526 0.25856369\n",
      " 0.0423048  0.17227039 0.07122518 0.03176096]\n",
      "################################################################################\n",
      "i-th element: 34\n",
      "y: [6] [0. 0. 0. 0. 0. 0. 1. 0. 0. 0.]\n",
      "--------------------------------------------------------------------------------\n",
      "results after 100 iterations; argmax and prob. distr for softmax:\n",
      "--------------------------------------------------------------------------------\n",
      "5 [0.05757055 0.11305162 0.12213037 0.06662457 0.06101822 0.16547058\n",
      " 0.16195918 0.13921533 0.07624416 0.03671542]\n",
      "################################################################################\n",
      "i-th element: 35\n",
      "y: [5] [0. 0. 0. 0. 0. 1. 0. 0. 0. 0.]\n",
      "--------------------------------------------------------------------------------\n",
      "results after 100 iterations; argmax and prob. distr for softmax:\n",
      "--------------------------------------------------------------------------------\n",
      "5 [0.02460533 0.04529797 0.04824723 0.02827126 0.02600841 0.666396\n",
      " 0.05978896 0.05348552 0.03204917 0.01585015]\n",
      "################################################################################\n",
      "i-th element: 36\n",
      "y: [3] [0. 0. 0. 1. 0. 0. 0. 0. 0. 0.]\n",
      "--------------------------------------------------------------------------------\n",
      "results after 100 iterations; argmax and prob. distr for softmax:\n",
      "--------------------------------------------------------------------------------\n",
      "5 [0.04890345 0.08388029 0.08833068 0.19107795 0.0514812  0.24157878\n",
      " 0.10438656 0.09586747 0.06223172 0.0322619 ]\n",
      "################################################################################\n",
      "i-th element: 37\n",
      "y: [0] [1. 0. 0. 0. 0. 0. 0. 0. 0. 0.]\n",
      "--------------------------------------------------------------------------------\n",
      "results after 100 iterations; argmax and prob. distr for softmax:\n",
      "--------------------------------------------------------------------------------\n",
      "0 [0.20892749 0.08090999 0.08427252 0.13762453 0.05326387 0.15225911\n",
      " 0.0955596  0.08973367 0.06304609 0.03440313]\n",
      "################################################################################\n",
      "i-th element: 38\n",
      "y: [6] [0. 0. 0. 0. 0. 0. 1. 0. 0. 0.]\n",
      "--------------------------------------------------------------------------------\n",
      "results after 100 iterations; argmax and prob. distr for softmax:\n",
      "--------------------------------------------------------------------------------\n",
      "6 [0.0919285  0.04683659 0.04850074 0.07119765 0.03206075 0.07624532\n",
      " 0.52351956 0.05115871 0.03749671 0.02105547]\n",
      "################################################################################\n",
      "i-th element: 39\n",
      "y: [3] [0. 0. 0. 1. 0. 0. 0. 0. 0. 0.]\n",
      "--------------------------------------------------------------------------------\n",
      "results after 100 iterations; argmax and prob. distr for softmax:\n",
      "--------------------------------------------------------------------------------\n",
      "3 [0.0706562  0.0400517  0.04134596 0.51639751 0.02805673 0.06109568\n",
      " 0.14779596 0.0433933  0.03256763 0.01863933]\n",
      "################################################################################\n",
      "i-th element: 40\n",
      "y: [1] [0. 1. 0. 0. 0. 0. 0. 0. 0. 0.]\n",
      "--------------------------------------------------------------------------------\n",
      "results after 100 iterations; argmax and prob. distr for softmax:\n",
      "--------------------------------------------------------------------------------\n",
      "1 [0.09039482 0.24851341 0.05768978 0.20463555 0.04035991 0.08058269\n",
      " 0.14392364 0.06021999 0.04639546 0.02728476]\n",
      "################################################################################\n",
      "i-th element: 41\n",
      "y: [0] [1. 0. 0. 0. 0. 0. 0. 0. 0. 0.]\n",
      "--------------------------------------------------------------------------------\n",
      "results after 100 iterations; argmax and prob. distr for softmax:\n",
      "--------------------------------------------------------------------------------\n",
      "0 [0.52663214 0.10366895 0.03667668 0.0945814  0.02618123 0.04938669\n",
      " 0.07693641 0.03815539 0.02991723 0.01786387]\n",
      "################################################################################\n",
      "i-th element: 42\n",
      "y: [2] [0. 0. 1. 0. 0. 0. 0. 0. 0. 0.]\n",
      "--------------------------------------------------------------------------------\n",
      "results after 100 iterations; argmax and prob. distr for softmax:\n",
      "--------------------------------------------------------------------------------\n",
      "0 [0.21170606 0.12297325 0.21055178 0.11596225 0.03956821 0.07042913\n",
      " 0.10043497 0.05609568 0.04485054 0.02742811]\n",
      "################################################################################\n",
      "i-th element: 43\n",
      "y: [1] [0. 1. 0. 0. 0. 0. 0. 0. 0. 0.]\n",
      "--------------------------------------------------------------------------------\n"
     ]
    },
    {
     "name": "stdout",
     "output_type": "stream",
     "text": [
      "results after 100 iterations; argmax and prob. distr for softmax:\n",
      "--------------------------------------------------------------------------------\n",
      "1 [0.08029935 0.61775201 0.08005511 0.05359976 0.02024467 0.03501619\n",
      " 0.04772203 0.02834188 0.02287589 0.01409312]\n",
      "################################################################################\n",
      "i-th element: 44\n",
      "y: [0] [1. 0. 0. 0. 0. 0. 0. 0. 0. 0.]\n",
      "--------------------------------------------------------------------------------\n",
      "results after 100 iterations; argmax and prob. distr for softmax:\n",
      "--------------------------------------------------------------------------------\n",
      "0 [0.61080359 0.14289331 0.0609279  0.04358187 0.0173293  0.02947057\n",
      " 0.03927877 0.02406828 0.01953926 0.01210716]\n",
      "################################################################################\n",
      "i-th element: 45\n",
      "y: [0] [1. 0. 0. 0. 0. 0. 0. 0. 0. 0.]\n",
      "--------------------------------------------------------------------------------\n",
      "results after 100 iterations; argmax and prob. distr for softmax:\n",
      "--------------------------------------------------------------------------------\n",
      "0 [0.81625548 0.06268453 0.02967444 0.02145449 0.00853829 0.01455899\n",
      " 0.01936574 0.01188549 0.00963782 0.00594474]\n",
      "################################################################################\n",
      "i-th element: 46\n",
      "y: [2] [0. 0. 1. 0. 0. 0. 0. 0. 0. 0.]\n",
      "--------------------------------------------------------------------------------\n",
      "results after 100 iterations; argmax and prob. distr for softmax:\n",
      "--------------------------------------------------------------------------------\n",
      "2 [0.2468845  0.12346225 0.39970076 0.05268876 0.02202353 0.03673827\n",
      " 0.04797498 0.03028778 0.02475764 0.01548154]\n",
      "################################################################################\n",
      "i-th element: 47\n",
      "y: [3] [0. 0. 0. 1. 0. 0. 0. 0. 0. 0.]\n",
      "--------------------------------------------------------------------------------\n",
      "results after 100 iterations; argmax and prob. distr for softmax:\n",
      "--------------------------------------------------------------------------------\n",
      "3 [0.14906571 0.1087758  0.16875702 0.37256725 0.0254502  0.04143842\n",
      " 0.05284964 0.03456356 0.02849831 0.0180341 ]\n",
      "################################################################################\n",
      "i-th element: 48\n",
      "y: [6] [0. 0. 0. 0. 0. 0. 1. 0. 0. 0.]\n",
      "--------------------------------------------------------------------------------\n",
      "results after 100 iterations; argmax and prob. distr for softmax:\n",
      "--------------------------------------------------------------------------------\n",
      "6 [0.1190813  0.09831829 0.12694876 0.16690985 0.02808977 0.04458108\n",
      " 0.32703312 0.03763719 0.03132205 0.02007858]\n",
      "################################################################################\n",
      "i-th element: 49\n",
      "y: [8] [0. 0. 0. 0. 0. 0. 0. 0. 1. 0.]\n",
      "--------------------------------------------------------------------------------\n",
      "results after 100 iterations; argmax and prob. distr for softmax:\n",
      "--------------------------------------------------------------------------------\n",
      "6 [0.12692801 0.11187568 0.13196489 0.15284148 0.03825386 0.05876945\n",
      " 0.19408086 0.05034888 0.107241   0.02769588]\n"
     ]
    }
   ],
   "source": [
    "### training\n",
    "\n",
    "init_distribution = (-0.01, 0.01)\n",
    "layers_specs = [(20, act_fn), \n",
    "                (25, act_fn), \n",
    "                (30, act_fn), \n",
    "                (10, fn_softmax),\n",
    "                ]\n",
    "\n",
    "nn = NeuralNetMultiLayer(layers_specs=layers_specs, dim_input=64)\n",
    "\n",
    "\n",
    "\n",
    "for i in range(50):\n",
    "    print(\"#\" * 80)\n",
    "    x = X_train[i]\n",
    "    y_target = y_train[i]\n",
    "\n",
    "    print(\"i-th element:\", i)\n",
    "    print(\"y:\", np.where(y_target)[0], y_target)\n",
    "#     print(\"x:\", x)\n",
    "    print(\"-\" * 80)\n",
    "    \n",
    "    lst_max_prob = []\n",
    "    for t in range(100):\n",
    "        nn.backpropagate(x, y_target, eta=0.01) \n",
    "        lst_x, lst_z, lst_y = nn.forward(x)\n",
    "        out = lst_y[-1]\n",
    "        ind_opt = np.argmax(out)\n",
    "        # this is only to store probs on 4 decimals \n",
    "        # nothing fancy but just for printing since \n",
    "        # we print so many lines, etc. \n",
    "        prob = round(10000 * out[ind_opt]) / 10000 \n",
    "        lst_max_prob.append((np.argmax(out), prob))\n",
    "    \n",
    "#     print(lst_max_prob)\n",
    "    print(\"results after 100 iterations; argmax and prob. distr for softmax:\")\n",
    "    print(\"-\" * 80)\n",
    "    print(ind_opt, out)\n"
   ]
  },
  {
   "cell_type": "markdown",
   "metadata": {},
   "source": [
    "### real keras code"
   ]
  },
  {
   "cell_type": "code",
   "execution_count": 91,
   "metadata": {},
   "outputs": [
    {
     "name": "stderr",
     "output_type": "stream",
     "text": [
      "Using TensorFlow backend.\n"
     ]
    },
    {
     "name": "stdout",
     "output_type": "stream",
     "text": [
      "WARNING:tensorflow:From /home/milan/anaconda3/lib/python3.7/site-packages/tensorflow/python/ops/resource_variable_ops.py:435: colocate_with (from tensorflow.python.framework.ops) is deprecated and will be removed in a future version.\n",
      "Instructions for updating:\n",
      "Colocations handled automatically by placer.\n",
      "WARNING:tensorflow:From /home/milan/anaconda3/lib/python3.7/site-packages/tensorflow/python/ops/math_ops.py:3066: to_int32 (from tensorflow.python.ops.math_ops) is deprecated and will be removed in a future version.\n",
      "Instructions for updating:\n",
      "Use tf.cast instead.\n",
      "Epoch 1/20\n",
      "1000/1000 [==============================] - 0s 102us/step - loss: 2.4114 - accuracy: 0.1050\n",
      "Epoch 2/20\n",
      "1000/1000 [==============================] - 0s 9us/step - loss: 2.3746 - accuracy: 0.1160\n",
      "Epoch 3/20\n",
      "1000/1000 [==============================] - 0s 9us/step - loss: 2.3386 - accuracy: 0.1070\n",
      "Epoch 4/20\n",
      "1000/1000 [==============================] - 0s 9us/step - loss: 2.3438 - accuracy: 0.0890\n",
      "Epoch 5/20\n",
      "1000/1000 [==============================] - 0s 10us/step - loss: 2.3222 - accuracy: 0.1130\n",
      "Epoch 6/20\n",
      "1000/1000 [==============================] - 0s 19us/step - loss: 2.3156 - accuracy: 0.1140\n",
      "Epoch 7/20\n",
      "1000/1000 [==============================] - 0s 12us/step - loss: 2.2976 - accuracy: 0.1300\n",
      "Epoch 8/20\n",
      "1000/1000 [==============================] - 0s 12us/step - loss: 2.3047 - accuracy: 0.1100\n",
      "Epoch 9/20\n",
      "1000/1000 [==============================] - 0s 10us/step - loss: 2.3102 - accuracy: 0.1030\n",
      "Epoch 10/20\n",
      "1000/1000 [==============================] - 0s 11us/step - loss: 2.3059 - accuracy: 0.1240\n",
      "Epoch 11/20\n",
      "1000/1000 [==============================] - 0s 17us/step - loss: 2.3097 - accuracy: 0.1060\n",
      "Epoch 12/20\n",
      "1000/1000 [==============================] - 0s 15us/step - loss: 2.3004 - accuracy: 0.1080\n",
      "Epoch 13/20\n",
      "1000/1000 [==============================] - 0s 12us/step - loss: 2.3020 - accuracy: 0.1110\n",
      "Epoch 14/20\n",
      "1000/1000 [==============================] - 0s 12us/step - loss: 2.3011 - accuracy: 0.1130\n",
      "Epoch 15/20\n",
      "1000/1000 [==============================] - 0s 11us/step - loss: 2.3007 - accuracy: 0.1120\n",
      "Epoch 16/20\n",
      "1000/1000 [==============================] - 0s 15us/step - loss: 2.3017 - accuracy: 0.1290\n",
      "Epoch 17/20\n",
      "1000/1000 [==============================] - 0s 16us/step - loss: 2.2967 - accuracy: 0.1060\n",
      "Epoch 18/20\n",
      "1000/1000 [==============================] - 0s 12us/step - loss: 2.2997 - accuracy: 0.1140\n",
      "Epoch 19/20\n",
      "1000/1000 [==============================] - 0s 11us/step - loss: 2.3050 - accuracy: 0.1080\n",
      "Epoch 20/20\n",
      "1000/1000 [==============================] - 0s 10us/step - loss: 2.3028 - accuracy: 0.1220\n",
      "100/100 [==============================] - 0s 383us/step\n"
     ]
    }
   ],
   "source": [
    "import keras\n",
    "from keras.models import Sequential\n",
    "from keras.layers import Dense, Dropout, Activation\n",
    "from keras.optimizers import SGD\n",
    "\n",
    "# Generate dummy data\n",
    "import numpy as np\n",
    "x_train = np.random.random((1000, 20))\n",
    "y_train = keras.utils.to_categorical(np.random.randint(10, size=(1000, 1)), num_classes=10)\n",
    "x_test = np.random.random((100, 20))\n",
    "y_test = keras.utils.to_categorical(np.random.randint(10, size=(100, 1)), num_classes=10)\n",
    "\n",
    "model = Sequential()\n",
    "# Dense(64) is a fully-connected layer with 64 hidden units.\n",
    "# in the first layer, you must specify the expected input data shape:\n",
    "# here, 20-dimensional vectors.\n",
    "model.add(Dense(64, activation='relu', input_dim=20))\n",
    "model.add(Dropout(0.5))\n",
    "model.add(Dense(64, activation='relu'))\n",
    "model.add(Dropout(0.5))\n",
    "model.add(Dense(10, activation='softmax'))\n",
    "\n",
    "sgd = SGD(lr=0.01, decay=1e-6, momentum=0.9, nesterov=True)\n",
    "model.compile(loss='categorical_crossentropy',\n",
    "              optimizer=sgd,\n",
    "              metrics=['accuracy'])\n",
    "\n",
    "model.fit(x_train, y_train,\n",
    "          epochs=20,\n",
    "          batch_size=128)\n",
    "score = model.evaluate(x_test, y_test, batch_size=128)"
   ]
  },
  {
   "cell_type": "code",
   "execution_count": 326,
   "metadata": {},
   "outputs": [
    {
     "name": "stdout",
     "output_type": "stream",
     "text": [
      "Epoch 1/20\n",
      "1000/1000 [==============================] - 0s 138us/step - loss: 0.7226 - accuracy: 0.4920\n",
      "Epoch 2/20\n",
      "1000/1000 [==============================] - 0s 12us/step - loss: 0.7121 - accuracy: 0.5030\n",
      "Epoch 3/20\n",
      "1000/1000 [==============================] - 0s 15us/step - loss: 0.6996 - accuracy: 0.5080\n",
      "Epoch 4/20\n",
      "1000/1000 [==============================] - 0s 16us/step - loss: 0.7056 - accuracy: 0.4930\n",
      "Epoch 5/20\n",
      "1000/1000 [==============================] - 0s 18us/step - loss: 0.7027 - accuracy: 0.5020\n",
      "Epoch 6/20\n",
      "1000/1000 [==============================] - 0s 15us/step - loss: 0.7030 - accuracy: 0.5010\n",
      "Epoch 7/20\n",
      "1000/1000 [==============================] - 0s 15us/step - loss: 0.7064 - accuracy: 0.4870\n",
      "Epoch 8/20\n",
      "1000/1000 [==============================] - 0s 20us/step - loss: 0.6937 - accuracy: 0.5230\n",
      "Epoch 9/20\n",
      "1000/1000 [==============================] - 0s 20us/step - loss: 0.6959 - accuracy: 0.5190\n",
      "Epoch 10/20\n",
      "1000/1000 [==============================] - 0s 17us/step - loss: 0.6990 - accuracy: 0.5010\n",
      "Epoch 11/20\n",
      "1000/1000 [==============================] - 0s 16us/step - loss: 0.6963 - accuracy: 0.5000\n",
      "Epoch 12/20\n",
      "1000/1000 [==============================] - 0s 16us/step - loss: 0.6971 - accuracy: 0.4980\n",
      "Epoch 13/20\n",
      "1000/1000 [==============================] - 0s 17us/step - loss: 0.6936 - accuracy: 0.5200\n",
      "Epoch 14/20\n",
      "1000/1000 [==============================] - 0s 13us/step - loss: 0.6878 - accuracy: 0.5330\n",
      "Epoch 15/20\n",
      "1000/1000 [==============================] - 0s 11us/step - loss: 0.6942 - accuracy: 0.4990\n",
      "Epoch 16/20\n",
      "1000/1000 [==============================] - 0s 11us/step - loss: 0.6922 - accuracy: 0.5230\n",
      "Epoch 17/20\n",
      "1000/1000 [==============================] - 0s 11us/step - loss: 0.6927 - accuracy: 0.5290\n",
      "Epoch 18/20\n",
      "1000/1000 [==============================] - 0s 18us/step - loss: 0.6915 - accuracy: 0.5290\n",
      "Epoch 19/20\n",
      "1000/1000 [==============================] - 0s 13us/step - loss: 0.6942 - accuracy: 0.5090\n",
      "Epoch 20/20\n",
      "1000/1000 [==============================] - 0s 11us/step - loss: 0.6897 - accuracy: 0.5270\n",
      "100/100 [==============================] - 0s 672us/step\n"
     ]
    }
   ],
   "source": [
    "import numpy as np\n",
    "from keras.models import Sequential\n",
    "from keras.layers import Dense, Dropout\n",
    "\n",
    "# Generate dummy data\n",
    "x_train = np.random.random((1000, 20))\n",
    "y_train = np.random.randint(2, size=(1000, 1))\n",
    "x_test = np.random.random((100, 20))\n",
    "y_test = np.random.randint(2, size=(100, 1))\n",
    "\n",
    "model = Sequential()\n",
    "model.add(Dense(64, input_dim=20, activation='relu'))\n",
    "model.add(Dropout(0.5))\n",
    "model.add(Dense(64, activation='relu'))\n",
    "model.add(Dropout(0.5))\n",
    "model.add(Dense(1, activation='sigmoid'))\n",
    "\n",
    "model.compile(loss='binary_crossentropy',\n",
    "              optimizer='rmsprop',\n",
    "              metrics=['accuracy'])\n",
    "\n",
    "model.fit(x_train, y_train,\n",
    "          epochs=20,\n",
    "          batch_size=128)\n",
    "score = model.evaluate(x_test, y_test, batch_size=128)"
   ]
  },
  {
   "cell_type": "code",
   "execution_count": null,
   "metadata": {},
   "outputs": [],
   "source": []
  },
  {
   "cell_type": "code",
   "execution_count": null,
   "metadata": {},
   "outputs": [],
   "source": []
  },
  {
   "cell_type": "code",
   "execution_count": null,
   "metadata": {},
   "outputs": [],
   "source": [
    "n_hidden = 10\n",
    "model = NeuralNet(n_features, n_hidden, n_classes)"
   ]
  },
  {
   "cell_type": "code",
   "execution_count": null,
   "metadata": {},
   "outputs": [],
   "source": []
  },
  {
   "cell_type": "code",
   "execution_count": null,
   "metadata": {},
   "outputs": [],
   "source": [
    "model.loss(X_train, y_train)"
   ]
  },
  {
   "cell_type": "code",
   "execution_count": null,
   "metadata": {},
   "outputs": [],
   "source": [
    "model.accuracy(X_train, y_train)"
   ]
  },
  {
   "cell_type": "code",
   "execution_count": null,
   "metadata": {},
   "outputs": [],
   "source": [
    "plot_prediction(model, sample_idx=5)"
   ]
  },
  {
   "cell_type": "code",
   "execution_count": null,
   "metadata": {},
   "outputs": [],
   "source": [
    "losses, accuracies, accuracies_test = [], [], []\n",
    "losses.append(model.loss(X_train, y_train))\n",
    "accuracies.append(model.accuracy(X_train, y_train))\n",
    "accuracies_test.append(model.accuracy(X_test, y_test))\n",
    "\n",
    "print(\"Random init: train loss: %0.5f, train acc: %0.3f, test acc: %0.3f\"\n",
    "      % (losses[-1], accuracies[-1], accuracies_test[-1]))\n",
    "\n",
    "for epoch in range(15):\n",
    "    for i, (x, y) in enumerate(zip(X_train, y_train)):\n",
    "        model.train(x, y, 0.1)\n",
    "\n",
    "    losses.append(model.loss(X_train, y_train))\n",
    "    accuracies.append(model.accuracy(X_train, y_train))\n",
    "    accuracies_test.append(model.accuracy(X_test, y_test))\n",
    "    print(\"Epoch #%d, train loss: %0.5f, train acc: %0.3f, test acc: %0.3f\"\n",
    "          % (epoch + 1, losses[-1], accuracies[-1], accuracies_test[-1]))"
   ]
  },
  {
   "cell_type": "code",
   "execution_count": null,
   "metadata": {},
   "outputs": [],
   "source": [
    "plt.plot(losses)\n",
    "plt.title(\"Training loss\");"
   ]
  },
  {
   "cell_type": "code",
   "execution_count": null,
   "metadata": {},
   "outputs": [],
   "source": [
    "plt.plot(accuracies, label='train')\n",
    "plt.plot(accuracies_test, label='test')\n",
    "plt.ylim(0, 1.1)\n",
    "plt.ylabel(\"accuracy\")\n",
    "plt.legend(loc='best');"
   ]
  },
  {
   "cell_type": "code",
   "execution_count": null,
   "metadata": {},
   "outputs": [],
   "source": [
    "plot_prediction(model, sample_idx=4)"
   ]
  },
  {
   "cell_type": "markdown",
   "metadata": {},
   "source": [
    "## c) Exercises\n",
    "\n",
    "### Look at worst prediction errors\n",
    "\n",
    "- Use numpy to find test samples for which the model made the worst predictions,\n",
    "- Use the `plot_prediction` to look at the model predictions on those,\n",
    "- Would you have done any better?"
   ]
  },
  {
   "cell_type": "code",
   "execution_count": null,
   "metadata": {},
   "outputs": [],
   "source": [
    "# %load solutions/worst_predictions.py"
   ]
  },
  {
   "cell_type": "markdown",
   "metadata": {},
   "source": [
    "### Hyper parameters settings\n",
    "\n",
    "- Experiment with different hyper parameters:\n",
    "  - learning rate,\n",
    "  - size of hidden layer,\n",
    "  - initialization scheme: test with 0 initialization vs uniform,\n",
    "  - implement other activation functions,\n",
    "  - implement the support for a second hidden layer.\n",
    "\n",
    "\n",
    "### Mini-batches\n",
    "\n",
    "- The current implementations of `train` and `grad_loss` function currently only accept a single sample at a time:\n",
    "    - implement the support for training with a mini-batch of 32 samples at a time instead of one,\n",
    "    - experiment with different sizes of batches,\n",
    "    - monitor the norm of the average gradients on the full training set at the end of each epoch.\n",
    "\n",
    "\n",
    "### Momentum\n",
    "\n",
    "- Bonus: Implement momentum\n",
    "\n",
    "\n",
    "### Back to Keras\n",
    "\n",
    "- Implement the same network architecture with Keras;\n",
    "\n",
    "- Check that the Keras model can approximately reproduce the behavior of the Numpy model when using similar hyperparameter values (size of the model, type of activations, learning rate value and use of momentum);\n",
    "\n",
    "- Compute the negative log likelihood of a sample 42 in the test set (can use `model.predict_proba`);\n",
    "\n",
    "- Compute the average negative log-likelihood on the full test set.\n",
    "\n",
    "- Compute the average negative log-likelihood  on the full training set and check that you can get the value of the loss reported by Keras.\n",
    "\n",
    "- Is the model overfitting or underfitting? (ensure that the model has fully converged by increasing the number of epochs to 50 or more if necessary)."
   ]
  },
  {
   "cell_type": "code",
   "execution_count": null,
   "metadata": {},
   "outputs": [],
   "source": []
  },
  {
   "cell_type": "code",
   "execution_count": null,
   "metadata": {},
   "outputs": [],
   "source": [
    "# %load solutions/keras_model.py"
   ]
  },
  {
   "cell_type": "code",
   "execution_count": null,
   "metadata": {},
   "outputs": [],
   "source": [
    "# %load solutions/keras_model_test_loss.py"
   ]
  },
  {
   "cell_type": "markdown",
   "metadata": {},
   "source": [
    "## Homework assignments\n",
    "\n",
    "- Watch the following video on [how to code a minimal deep learning framework](https://www.youtube.com/watch?v=o64FV-ez6Gw) that feels like a simplified version\n",
    "of Keras but using numpy instead of tensorflow:"
   ]
  },
  {
   "cell_type": "code",
   "execution_count": null,
   "metadata": {},
   "outputs": [],
   "source": [
    "from IPython.display import YouTubeVideo\n",
    "YouTubeVideo(\"o64FV-ez6Gw\")"
   ]
  },
  {
   "cell_type": "markdown",
   "metadata": {},
   "source": [
    "- **Optional**: read the following blog post on Reverse-Mode Automatic Differentiation from start to section \"A simple implementation in Python\" included:\n",
    "\n",
    "  https://rufflewind.com/2016-12-30/reverse-mode-automatic-differentiation"
   ]
  }
 ],
 "metadata": {
  "kernelspec": {
   "display_name": "Python 3",
   "language": "python",
   "name": "python3"
  },
  "language_info": {
   "codemirror_mode": {
    "name": "ipython",
    "version": 3
   },
   "file_extension": ".py",
   "mimetype": "text/x-python",
   "name": "python",
   "nbconvert_exporter": "python",
   "pygments_lexer": "ipython3",
   "version": "3.7.5"
  }
 },
 "nbformat": 4,
 "nbformat_minor": 2
}
