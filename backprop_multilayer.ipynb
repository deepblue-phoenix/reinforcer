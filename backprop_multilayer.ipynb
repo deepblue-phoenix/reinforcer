{
 "cells": [
  {
   "cell_type": "markdown",
   "metadata": {},
   "source": [
    "# Backpropagation in Multilayer Neural Networks\n",
    "\n",
    "### Goals: \n",
    "- implementING a real gradient descent in `Numpy`\n",
    "\n",
    "### Dataset:\n",
    "- Similar as first Lab - Digits: 10 class handwritten digits\n",
    "- [sklearn.datasets.load_digits](http://scikit-learn.org/stable/modules/generated/sklearn.datasets.load_digits.html#sklearn.datasets.load_digits)"
   ]
  },
  {
   "cell_type": "code",
   "execution_count": 1,
   "metadata": {},
   "outputs": [],
   "source": [
    "%matplotlib inline\n",
    "import matplotlib.pyplot as plt\n",
    "import numpy as np\n",
    "from sklearn.datasets import load_digits\n",
    "\n",
    "digits = load_digits()"
   ]
  },
  {
   "cell_type": "code",
   "execution_count": 2,
   "metadata": {},
   "outputs": [
    {
     "data": {
      "image/png": "[encoded data removed]",
      "text/plain": [
       "<Figure size 216x216 with 1 Axes>"
      ]
     },
     "metadata": {
      "needs_background": "light"
     },
     "output_type": "display_data"
    }
   ],
   "source": [
    "sample_index = 45\n",
    "plt.figure(figsize=(3, 3))\n",
    "plt.imshow(digits.images[sample_index], cmap=plt.cm.gray_r,\n",
    "           interpolation='nearest')\n",
    "plt.title(\"image label: %d\" % digits.target[sample_index]);"
   ]
  },
  {
   "cell_type": "markdown",
   "metadata": {},
   "source": [
    "### Preprocessing\n",
    "\n",
    "- Normalization\n",
    "- Train / test split"
   ]
  },
  {
   "cell_type": "code",
   "execution_count": 3,
   "metadata": {},
   "outputs": [],
   "source": [
    "from sklearn import preprocessing\n",
    "from sklearn.model_selection import train_test_split\n",
    "\n",
    "data = np.asarray(digits.data, dtype='float32')\n",
    "target = np.asarray(digits.target, dtype='int32')\n",
    "\n",
    "X_train, X_test, y_train, y_test = train_test_split(\n",
    "    data, target, test_size=0.15, random_state=37)\n",
    "\n",
    "# mean = 0 ; standard deviation = 1.0\n",
    "scaler = preprocessing.StandardScaler()\n",
    "X_train = scaler.fit_transform(X_train)\n",
    "X_test = scaler.transform(X_test)\n",
    "\n",
    "# print(scaler.mean_)\n",
    "# print(scaler.scale_)"
   ]
  },
  {
   "cell_type": "code",
   "execution_count": 4,
   "metadata": {},
   "outputs": [],
   "source": [
    "def one_hot(n_classes, y):\n",
    "    return np.eye(n_classes)[y]"
   ]
  },
  {
   "cell_type": "code",
   "execution_count": 5,
   "metadata": {},
   "outputs": [
    {
     "data": {
      "text/plain": [
       "array([0., 0., 0., 1., 0., 0., 0., 0., 0., 0.])"
      ]
     },
     "execution_count": 5,
     "metadata": {},
     "output_type": "execute_result"
    }
   ],
   "source": [
    "one_hot(n_classes=10, y=3)"
   ]
  },
  {
   "cell_type": "code",
   "execution_count": 6,
   "metadata": {},
   "outputs": [
    {
     "data": {
      "text/plain": [
       "array([[1., 0., 0., 0., 0., 0., 0., 0., 0., 0.],\n",
       "       [0., 0., 0., 0., 1., 0., 0., 0., 0., 0.],\n",
       "       [0., 0., 0., 0., 0., 0., 0., 0., 0., 1.],\n",
       "       [0., 1., 0., 0., 0., 0., 0., 0., 0., 0.]])"
      ]
     },
     "execution_count": 6,
     "metadata": {},
     "output_type": "execute_result"
    }
   ],
   "source": [
    "one_hot(n_classes=10, y=[0, 4, 9, 1])"
   ]
  },
  {
   "cell_type": "code",
   "execution_count": 7,
   "metadata": {},
   "outputs": [
    {
     "name": "stdout",
     "output_type": "stream",
     "text": [
      "softmax of a single vector:\n",
      "[9.99662391e-01 3.35349373e-04 2.25956630e-06]\n"
     ]
    }
   ],
   "source": [
    "# norm over a column \n",
    "def softmax(X):\n",
    "    exp = np.exp(X)\n",
    "    return exp / np.sum(exp, axis=-1, keepdims=True)\n",
    "\n",
    "\n",
    "print(\"softmax of a single vector:\")\n",
    "print(softmax([10, 2, -3]))"
   ]
  },
  {
   "cell_type": "code",
   "execution_count": 8,
   "metadata": {},
   "outputs": [
    {
     "name": "stdout",
     "output_type": "stream",
     "text": [
      "[[[0. 1. 2. 3. 4. 5. 6. 7. 8.]\n",
      "  [0. 1. 2. 3. 4. 5. 6. 7. 8.]\n",
      "  [0. 1. 2. 3. 4. 5. 6. 7. 8.]\n",
      "  [0. 1. 2. 3. 4. 5. 6. 7. 8.]\n",
      "  [0. 1. 2. 3. 4. 5. 6. 7. 8.]\n",
      "  [0. 1. 2. 3. 4. 5. 6. 7. 8.]]\n",
      "\n",
      " [[0. 1. 2. 3. 4. 5. 6. 7. 8.]\n",
      "  [0. 1. 2. 3. 4. 5. 6. 7. 8.]\n",
      "  [0. 1. 2. 3. 4. 5. 6. 7. 8.]\n",
      "  [0. 1. 2. 3. 4. 5. 6. 7. 8.]\n",
      "  [0. 1. 2. 3. 4. 5. 6. 7. 8.]\n",
      "  [0. 1. 2. 3. 4. 5. 6. 7. 8.]]\n",
      "\n",
      " [[0. 1. 2. 3. 4. 5. 6. 7. 8.]\n",
      "  [0. 1. 2. 3. 4. 5. 6. 7. 8.]\n",
      "  [0. 1. 2. 3. 4. 5. 6. 7. 8.]\n",
      "  [0. 1. 2. 3. 4. 5. 6. 7. 8.]\n",
      "  [0. 1. 2. 3. 4. 5. 6. 7. 8.]\n",
      "  [0. 1. 2. 3. 4. 5. 6. 7. 8.]]]\n"
     ]
    },
    {
     "data": {
      "text/plain": [
       "array([[[36.],\n",
       "        [36.],\n",
       "        [36.],\n",
       "        [36.],\n",
       "        [36.],\n",
       "        [36.]],\n",
       "\n",
       "       [[36.],\n",
       "        [36.],\n",
       "        [36.],\n",
       "        [36.],\n",
       "        [36.],\n",
       "        [36.]],\n",
       "\n",
       "       [[36.],\n",
       "        [36.],\n",
       "        [36.],\n",
       "        [36.],\n",
       "        [36.],\n",
       "        [36.]]])"
      ]
     },
     "execution_count": 8,
     "metadata": {},
     "output_type": "execute_result"
    }
   ],
   "source": [
    "# TO BE EXAMINED MORE: keepdims?!\n",
    "\n",
    "m = 3\n",
    "W = np.ones((m, 2 * m, 3 * m))\n",
    "\n",
    "for i in range(m):\n",
    "    for j in range(2 * m):\n",
    "        for k in range(3 * m):\n",
    "            W[i, j, k] = k\n",
    "        \n",
    "# np.sum(W, axis=0)\n",
    "print(W)\n",
    "\n",
    "3 * 6 * 9\n",
    "np.sum(W, axis=-1, keepdims=True)\n",
    "\n",
    "# print(W[:, 0])"
   ]
  },
  {
   "cell_type": "markdown",
   "metadata": {},
   "source": [
    "Probabilities should sum to 1:"
   ]
  },
  {
   "cell_type": "code",
   "execution_count": 9,
   "metadata": {},
   "outputs": [
    {
     "name": "stdout",
     "output_type": "stream",
     "text": [
      "1.0\n"
     ]
    }
   ],
   "source": [
    "print(np.sum(softmax([10, 2, -3])))"
   ]
  },
  {
   "cell_type": "code",
   "execution_count": 10,
   "metadata": {},
   "outputs": [
    {
     "name": "stdout",
     "output_type": "stream",
     "text": [
      "sotfmax of 2 vectors:\n",
      "[[9.99662391e-01 3.35349373e-04 2.25956630e-06]\n",
      " [2.47262316e-03 9.97527377e-01 1.38536042e-11]]\n"
     ]
    }
   ],
   "source": [
    "print(\"sotfmax of 2 vectors:\")\n",
    "X = np.array([[10, 2, -3],\n",
    "              [-1, 5, -20]])\n",
    "print(softmax(X))"
   ]
  },
  {
   "cell_type": "markdown",
   "metadata": {},
   "source": [
    "The sum of probabilities for each input vector of logits should some to 1:"
   ]
  },
  {
   "cell_type": "code",
   "execution_count": 11,
   "metadata": {},
   "outputs": [
    {
     "name": "stdout",
     "output_type": "stream",
     "text": [
      "[1. 1.]\n"
     ]
    }
   ],
   "source": [
    "print(np.sum(softmax(X), axis=1))"
   ]
  },
  {
   "cell_type": "markdown",
   "metadata": {},
   "source": [
    "Implement a function that given the true one-hot encoded class `Y_true` and and some predicted probabilities `Y_pred` returns the negative log likelihood."
   ]
  },
  {
   "cell_type": "code",
   "execution_count": 15,
   "metadata": {},
   "outputs": [],
   "source": [
    "# def nll(Y_true, Y_pred):\n",
    "#     Y_true = np.asarray(Y_true)\n",
    "#     Y_pred = np.asarray(Y_pred)\n",
    "\n",
    "#     return -np.sum(Y_true * np.log(Y_pred))\n",
    "\n",
    "\n",
    "# # Make sure that it works for a simple sample at a time\n",
    "# print(nll([1, 0, 0], [.99, 0.01, 0]))"
   ]
  },
  {
   "cell_type": "markdown",
   "metadata": {},
   "source": [
    "Check that the nll of a very confident yet bad prediction is a much higher positive number:"
   ]
  },
  {
   "cell_type": "code",
   "execution_count": 14,
   "metadata": {},
   "outputs": [],
   "source": [
    "# print(nll([1, 0, 0], [0.01, 0.01, .98]))"
   ]
  },
  {
   "cell_type": "markdown",
   "metadata": {},
   "source": [
    "Make sure that your implementation can compute the average negative log likelihood of a group of predictions: `Y_pred` and `Y_true` can therefore be past as 2D arrays:"
   ]
  },
  {
   "cell_type": "code",
   "execution_count": 16,
   "metadata": {},
   "outputs": [],
   "source": [
    "# def nll(Y_true, Y_pred):\n",
    "#     Y_true = np.atleast_2d(Y_true)\n",
    "#     Y_pred = np.atleast_2d(Y_pred)\n",
    "\n",
    "#     # TODO\n",
    "#     return 0."
   ]
  },
  {
   "cell_type": "code",
   "execution_count": 17,
   "metadata": {},
   "outputs": [],
   "source": [
    "# # Check that the average NLL of the following 3 almost perfect\n",
    "# # predictions is close to 0\n",
    "# Y_true = np.array([[0, 1, 0],\n",
    "#                    [1, 0, 0],\n",
    "#                    [0, 0, 1]])\n",
    "\n",
    "# Y_pred = np.array([[0,   1,    0],\n",
    "#                    [.99, 0.01, 0],\n",
    "#                    [0,   0,    1]])\n",
    "\n",
    "# print(nll(Y_true, Y_pred))"
   ]
  },
  {
   "cell_type": "code",
   "execution_count": 18,
   "metadata": {},
   "outputs": [],
   "source": [
    "# # %load solutions/numpy_nll.py\n",
    "# EPSILON = 1e-8\n",
    "\n",
    "\n",
    "# def nll(Y_true, Y_pred):\n",
    "#     Y_true, Y_pred = np.atleast_2d(Y_true), np.atleast_2d(Y_pred)\n",
    "#     loglikelihoods = np.sum(np.log(EPSILON + Y_pred) * Y_true, axis=1)\n",
    "#     return -np.mean(loglikelihoods)\n",
    "\n",
    "\n",
    "# # Make sure that it works for a simple sample at a time\n",
    "# print(nll([1, 0, 0], [.99, 0.01, 0]))\n",
    "\n",
    "# # Check that the nll of a very confident yet bad prediction\n",
    "# # is very high:\n",
    "# print(nll([1, 0, 0], [0.01, 0.01, .98]))\n",
    "\n",
    "# # Check that the average NLL of the following 3 almost perfect\n",
    "# # predictions is close to 0\n",
    "# Y_true = np.array([[0, 1, 0],\n",
    "#                    [1, 0, 0],\n",
    "#                    [0, 0, 1]])\n",
    "\n",
    "# Y_pred = np.array([[0,   1,    0],\n",
    "#                    [.99, 0.01, 0],\n",
    "#                    [0,   0,    1]])\n",
    "# print(nll(Y_true, Y_pred))"
   ]
  },
  {
   "cell_type": "markdown",
   "metadata": {},
   "source": [
    "Let us now study the following linear model trainable by SGD, **one sample at a time**."
   ]
  },
  {
   "cell_type": "code",
   "execution_count": 19,
   "metadata": {},
   "outputs": [],
   "source": [
    "# class LogisticRegression():\n",
    "\n",
    "    \n",
    "#     def __init__(self, input_size, output_size):\n",
    "#         self.W = np.random.uniform(size=(input_size, output_size),\n",
    "#                                    high=0.1, low=-0.1)\n",
    "#         self.b = np.random.uniform(size=output_size,\n",
    "#                                    high=0.1, low=-0.1)\n",
    "        \n",
    "#         self.output_size = output_size\n",
    "        \n",
    "#     def forward(self, X):\n",
    "#         Z = np.dot(X, self.W) + self.b\n",
    "#         return softmax(Z)\n",
    "    \n",
    "#     # this returns a vector 1500x1:\n",
    "#     # that is the maximum prob. over axis=1 which is on [0, 1, 2, \\dots, 9]\n",
    "#     # and the axis=0 is say 1500 where we have 1500 images each of these\n",
    "#     # image was originally 8x8 and then transformed into 1x64\n",
    "#     def predict(self, X):\n",
    "#         if len(X.shape) == 1:\n",
    "#             return np.argmax(self.forward(X))\n",
    "#         else:\n",
    "#             return np.argmax(self.forward(X), axis=1)\n",
    "    \n",
    "#     def grad_loss(self, x, y_true):\n",
    "#         y_pred = self.forward(x)\n",
    "#         dnll_output =  y_pred - one_hot(self.output_size, y_true)\n",
    "#         grad_W = np.outer(x, dnll_output)\n",
    "#         grad_b = dnll_output\n",
    "#         grads = {\"W\": grad_W, \"b\": grad_b}\n",
    "        \n",
    "#         return grads\n",
    "    \n",
    "#     def train(self, x, y, learning_rate):\n",
    "#         # Traditional SGD update without momentum\n",
    "#         grads = self.grad_loss(x, y)\n",
    "#         self.W = self.W - learning_rate * grads[\"W\"]\n",
    "#         self.b = self.b - learning_rate * grads[\"b\"]      \n",
    "        \n",
    "#     def loss(self, X, y):\n",
    "#         return nll(one_hot(self.output_size, y), self.forward(X))\n",
    "\n",
    "#     def accuracy(self, X, y):\n",
    "#         y_preds = np.argmax(self.forward(X), axis=1)\n",
    "#         return np.mean(y_preds == y)"
   ]
  },
  {
   "cell_type": "code",
   "execution_count": 20,
   "metadata": {},
   "outputs": [],
   "source": [
    "# # Build a model and test its forward inference\n",
    "# n_features = X_train.shape[1]\n",
    "# n_classes  = len(np.unique(y_train))\n",
    "# lr         = LogisticRegression(n_features, n_classes)\n",
    "\n",
    "# print(\"Evaluation of the untrained model:\")\n",
    "# train_loss = lr.loss(X_train, y_train)\n",
    "# train_acc  = lr.accuracy(X_train, y_train)\n",
    "# test_acc   = lr.accuracy(X_test, y_test)\n",
    "\n",
    "# print(\"train loss: %0.4f, train acc: %0.3f, test acc: %0.3f\"\n",
    "#       % (train_loss, train_acc, test_acc))"
   ]
  },
  {
   "cell_type": "markdown",
   "metadata": {},
   "source": [
    "Evaluate the randomly initialized model on the first example:"
   ]
  },
  {
   "cell_type": "code",
   "execution_count": 21,
   "metadata": {},
   "outputs": [],
   "source": [
    "# def plot_prediction(model, sample_idx=0, classes=range(10)):\n",
    "#     fig, (ax0, ax1) = plt.subplots(nrows=1, ncols=2, figsize=(10, 4))\n",
    "\n",
    "#     ax0.imshow(scaler.inverse_transform(X_test[sample_idx]).reshape(8, 8), cmap=plt.cm.gray_r,\n",
    "#                interpolation='nearest')\n",
    "#     ax0.set_title(\"True image label: %d\" % y_test[sample_idx]);\n",
    "\n",
    "\n",
    "#     ax1.bar(classes, one_hot(len(classes), y_test[sample_idx]), label='true')\n",
    "#     ax1.bar(classes, model.forward(X_test[sample_idx]), label='prediction', color=\"red\")\n",
    "#     ax1.set_xticks(classes)\n",
    "#     prediction = model.predict(X_test[sample_idx])\n",
    "#     ax1.set_title('Output probabilities (prediction: %d)'\n",
    "#                   % prediction)\n",
    "#     ax1.set_xlabel('Digit class')\n",
    "#     ax1.legend()\n",
    "    \n",
    "# plot_prediction(lr, sample_idx=0)"
   ]
  },
  {
   "cell_type": "code",
   "execution_count": 22,
   "metadata": {},
   "outputs": [],
   "source": [
    "# # Training for one epoch\n",
    "# learning_rate = 0.01\n",
    "\n",
    "# for i, (x, y) in enumerate(zip(X_train, y_train)):\n",
    "#     lr.train(x, y, learning_rate)\n",
    "#     if i % 100 == 0:\n",
    "#         train_loss = lr.loss(X_train, y_train)\n",
    "#         train_acc = lr.accuracy(X_train, y_train)\n",
    "#         test_acc = lr.accuracy(X_test, y_test)\n",
    "#         print(\"Update #%d, train loss: %0.4f, train acc: %0.3f, test acc: %0.3f\"\n",
    "#               % (i, train_loss, train_acc, test_acc))"
   ]
  },
  {
   "cell_type": "markdown",
   "metadata": {},
   "source": [
    "Evaluate the trained model on the first example:"
   ]
  },
  {
   "cell_type": "code",
   "execution_count": 23,
   "metadata": {},
   "outputs": [],
   "source": [
    "# plot_prediction(lr, sample_idx=0)"
   ]
  },
  {
   "cell_type": "markdown",
   "metadata": {},
   "source": [
    "## b) Feedforward Multilayer\n",
    "\n",
    "The objective of this section is to implement the backpropagation algorithm (SGD with the chain rule) on a single layer neural network using the sigmoid activation function.\n",
    "\n",
    "- Implement the `sigmoid` and its element-wise derivative `dsigmoid` functions:\n",
    "\n",
    "$$\n",
    "sigmoid(x) = \\frac{1}{1 + e^{-x}}\n",
    "$$\n",
    "\n",
    "$$\n",
    "dsigmoid(x) = sigmoid(x) \\cdot (1 - sigmoid(x))\n",
    "$$"
   ]
  },
  {
   "cell_type": "code",
   "execution_count": 24,
   "metadata": {},
   "outputs": [
    {
     "data": {
      "image/png": "[encoded data removed]",
      "text/plain": [
       "<Figure size 432x288 with 1 Axes>"
      ]
     },
     "metadata": {
      "needs_background": "light"
     },
     "output_type": "display_data"
    }
   ],
   "source": [
    "def sigmoid(X):\n",
    "    return 1 / (1 + np.exp(-X))\n",
    "    \n",
    "\n",
    "def dsigmoid(X):\n",
    "    return sigmoid(X) * (1 - sigmoid(X))\n",
    "\n",
    "\n",
    "x = np.linspace(-5, 5, 100)\n",
    "plt.plot(x, sigmoid(x), label='sigmoid')\n",
    "plt.plot(x, dsigmoid(x), label='dsigmoid')\n",
    "plt.legend(loc='best');"
   ]
  },
  {
   "cell_type": "code",
   "execution_count": 25,
   "metadata": {},
   "outputs": [
    {
     "data": {
      "image/png": "[encoded data removed]",
      "text/plain": [
       "<Figure size 432x288 with 1 Axes>"
      ]
     },
     "metadata": {
      "needs_background": "light"
     },
     "output_type": "display_data"
    }
   ],
   "source": [
    "# %load solutions/sigmoid.py\n",
    "def sigmoid(X):\n",
    "    return 1 / (1 + np.exp(-X))\n",
    "\n",
    "\n",
    "def dsigmoid(X):\n",
    "    sig=sigmoid(X)\n",
    "    return sig * (1 - sig)\n",
    "\n",
    "\n",
    "x = np.linspace(-5, 5, 100)\n",
    "plt.plot(x, sigmoid(x), label='sigmoid')\n",
    "plt.plot(x, dsigmoid(x), label='dsigmoid')\n",
    "plt.legend(loc='best');"
   ]
  },
  {
   "cell_type": "markdown",
   "metadata": {},
   "source": [
    "- Implement `forward` and `forward_keep_all` functions for a model with a hidden layer with a sigmoid activation function:\n",
    "  - $\\mathbf{h} = sigmoid(\\mathbf{W}^h \\mathbf{x} + \\mathbf{b^h})$\n",
    "  - $\\mathbf{y} = softmax(\\mathbf{W}^o \\mathbf{h} + \\mathbf{b^o})$\n",
    "\n",
    "- Notes: \n",
    "  - try to keep the code as similar as possible as the previous one;\n",
    "  - `forward` now has a keep activations parameter to also return hidden activations and pre activations;\n",
    "\n",
    "- Update the grad function to compute all gradients; check that the gradients are well defined;\n",
    "\n",
    "- Implement the `train` and `loss` functions.\n",
    "\n",
    "**Bonus**: reimplementing all from scratch only using the lecture slides but without looking at the solution of the `LogisticRegression` is an excellent exercise."
   ]
  },
  {
   "cell_type": "code",
   "execution_count": 26,
   "metadata": {},
   "outputs": [],
   "source": [
    "EPSILON = 1e-8\n",
    "\n",
    "\n",
    "class NeuralNet():\n",
    "    \"\"\"MLP with 1 hidden layer with a sigmoid activation\"\"\"\n",
    "    \n",
    "    def __init__(self, input_size, hidden_size, output_size):\n",
    "        # TODO\n",
    "        self.W_h = None\n",
    "        self.b_h = None\n",
    "        self.W_o = None\n",
    "        self.b_o = None\n",
    "        self.output_size = output_size\n",
    "            \n",
    "    def forward_keep_activations(self, X):\n",
    "        # TODO\n",
    "        z_h = W_o * h + b\n",
    "        h = softmax(z_h)\n",
    "        y = np.zeros(size=self.output_size)\n",
    "        return y, h, z_h\n",
    "\n",
    "    def forward(self, X):\n",
    "        y, h, z_h = self.forward_keep_activations(X)\n",
    "        return y\n",
    "    \n",
    "    def loss(self, X, y):\n",
    "        # TODO\n",
    "        return 42.\n",
    "\n",
    "    def grad_loss(self, x, y_true):\n",
    "        # TODO\n",
    "        return {\"W_h\": 0., \"b_h\": 0., \"W_o\": 0., \"b_o\": 0.}\n",
    "\n",
    "    def train(self, x, y, learning_rate):\n",
    "        # TODO\n",
    "        pass\n",
    "\n",
    "    def predict(self, X):\n",
    "        if len(X.shape) == 1:\n",
    "            return np.argmax(self.forward(X))\n",
    "        else:\n",
    "            return np.argmax(self.forward(X), axis=1)\n",
    "\n",
    "    def accuracy(self, X, y):\n",
    "        y_preds = np.argmax(self.forward(X), axis=1)\n",
    "        return np.mean(y_preds == y)"
   ]
  },
  {
   "cell_type": "code",
   "execution_count": 27,
   "metadata": {},
   "outputs": [],
   "source": [
    "# # %load solutions/neural_net.py\n",
    "# class NeuralNet():\n",
    "#     \"\"\"MLP with 1 hidden layer with a sigmoid activation\"\"\"\n",
    "\n",
    "#     def __init__(self, input_size, hidden_size, output_size):\n",
    "#         self.W_h = np.random.uniform(\n",
    "#             size=(input_size, hidden_size), high=0.01, low=-0.01)\n",
    "#         self.b_h = np.zeros(hidden_size)\n",
    "#         self.W_o = np.random.uniform(\n",
    "#             size=(hidden_size, output_size), high=0.01, low=-0.01)\n",
    "#         self.b_o = np.zeros(output_size)\n",
    "#         self.output_size = output_size\n",
    "\n",
    "#     def forward(self, X, keep_activations=False):\n",
    "#         z_h = np.dot(X, self.W_h) + self.b_h\n",
    "#         h = sigmoid(z_h)\n",
    "#         z_o = np.dot(h, self.W_o) + self.b_o\n",
    "#         y = softmax(z_o)\n",
    "#         if keep_activations:\n",
    "#             return y, h, z_h\n",
    "#         else:\n",
    "#             return y\n",
    "\n",
    "#     def loss(self, X, y):\n",
    "#         return nll(one_hot(self.output_size, y), self.forward(X))\n",
    "\n",
    "    \n",
    "    \n",
    "#     def grad_loss(self, x, y_true):\n",
    "#         y, h, z_h = self.forward(x, keep_activations=True)\n",
    "#         grad_z_o = y - one_hot(self.output_size, y_true)\n",
    "\n",
    "#         grad_W_o = np.outer(h, grad_z_o)\n",
    "#         grad_b_o = grad_z_o\n",
    "        \n",
    "#         grad_h = np.dot(grad_z_o, np.transpose(self.W_o))\n",
    "#         grad_z_h = grad_h * dsigmoid(z_h)\n",
    "        \n",
    "#         grad_W_h = np.outer(x, grad_z_h)\n",
    "#         grad_b_h = grad_z_h\n",
    "        \n",
    "#         grads = {\"W_h\": grad_W_h, \"b_h\": grad_b_h,\n",
    "#                  \"W_o\": grad_W_o, \"b_o\": grad_b_o}\n",
    "#         return grads\n",
    "\n",
    "#     def train(self, x, y, learning_rate):\n",
    "#         # Traditional SGD update on one sample at a time\n",
    "#         grads = self.grad_loss(x, y)\n",
    "#         self.W_h = self.W_h - learning_rate * grads[\"W_h\"]\n",
    "#         self.b_h = self.b_h - learning_rate * grads[\"b_h\"]\n",
    "#         self.W_o = self.W_o - learning_rate * grads[\"W_o\"]\n",
    "#         self.b_o = self.b_o - learning_rate * grads[\"b_o\"]\n",
    "\n",
    "#     def predict(self, X):\n",
    "#         if len(X.shape) == 1:\n",
    "#             return np.argmax(self.forward(X))\n",
    "#         else:\n",
    "#             return np.argmax(self.forward(X), axis=1)\n",
    "\n",
    "#     def accuracy(self, X, y):\n",
    "#         y_preds = np.argmax(self.forward(X), axis=1)\n",
    "#         return np.mean(y_preds == y)\n"
   ]
  },
  {
   "cell_type": "code",
   "execution_count": 65,
   "metadata": {},
   "outputs": [],
   "source": [
    "global_act_fn = lambda u: 1 / (1 + np.exp(-u))\n",
    "global_derivative_act_fn = lambda u: global_act_fn(u) * (1 - global_act_fn(u))\n",
    "    \n",
    "\n",
    "class NeuralNetMultiLayer():\n",
    "    \"\"\"MLP\"\"\"\n",
    "    \n",
    "    def __init__(self, layers_specs):\n",
    "        \"\"\"\n",
    "        network: is a list of layers\n",
    "        \"\"\"\n",
    "        self.newtork = [self.layer(spec) for spec in layers_specs]\n",
    "        self.output_size = layers_specs[-1][1]\n",
    " \n",
    "    # TODO: WE WILL SPECIFY A LOSS_FUNCTION \n",
    "    # WE US E A SQUARE ERROR FUNCTION \n",
    "    # LATER WE WILL SPECIFY AND WRITE THIS loss-fn\n",
    "    def loss(self, x_input, y):\n",
    "        return nll(one_hot(self.output_size, y), \n",
    "                   self.forward(x_input))\n",
    "\n",
    "    \n",
    "    def layer(self, spec, init_distribution=(-0.01, 0.01)):\n",
    "        \"\"\"\n",
    "        TODO: DEFINE DIFFERENT FUNCTIONS AND THEIR DERIVS.\n",
    "        sig, th, relu, \n",
    "        \"\"\"\n",
    "        \n",
    "        (_input, _output, act_fn, init_distribution) = spec\n",
    "        _input, _output = int(_input), int(_output)\n",
    "        (low, high) = init_distribution\n",
    "        print(\"test:\", _input, _output, low, high)\n",
    "        \n",
    "        \n",
    "        W = np.random.uniform(low=low, high=high, size=(1 + _input, _output))\n",
    "        act_fn = global_act_fn\n",
    "        \n",
    "        return (W, act_fn)\n",
    "    \n",
    "    def forward(self, x, keep_activations=False):\n",
    "        \n",
    "        \"\"\"additionally we store intermediate \n",
    "        computations over each layer in the list\n",
    "        `output_over_layer`;\n",
    "        we need the results to calc. \n",
    "        gradient of individual layers\n",
    "        in a back-propagation (below)\n",
    "        \"\"\"\n",
    "        \n",
    "        \n",
    "        a_layer_activation_output_lst = []\n",
    "        \n",
    "        tmp = x\n",
    "        for ind, layer in enumerate(self.newtork):\n",
    "            (W, act_fn) = layer\n",
    "            # z = W * tmp\n",
    "            tmp = act_fn(np.dot(W, tmp))\n",
    "        \n",
    "            a_layer_activation_output_lst.append(tmp)\n",
    "        \n",
    "        # output \n",
    "        y = tmp\n",
    "        return y, a_layer_activation_output_lst\n",
    "    \n",
    "    \n",
    "    # TODO: check the rate init. value!\n",
    "    def backpropagate(self, x, y, eta=0.01): \n",
    "        \n",
    "        # calc. output y for given x\n",
    "        a_last, a_layer_activation_output_lst = self.forward(x) \n",
    "        \n",
    "        # loss or error or J\n",
    "        loss = np.sum((a_last - y) ** 2)\n",
    "        # this is the last delta (eq. 15)\n",
    "        derivative_loss = 2 * (a_last - y) # this is delta(loss) / delta(a_last) \n",
    "        delta = derivative_loss * global_derivative_act_fn(a_last)\n",
    "        \n",
    "        delta_lst = [delta] \n",
    "        \n",
    "        W = W - eta * delta\n",
    "        \n",
    "        # in the following loop \n",
    "        # we do a backprop and *prepend* deltas \n",
    "        # so to form delta_lst\n",
    "        \n",
    "        # index is going in the reverse way: \n",
    "        # we perform backpropagation\n",
    "        # CHECK THE FIRST index?!\n",
    "        for ind in range(1, len(self.network)): \n",
    "            \n",
    "            layer = self.newtork[-ind]\n",
    "            (W, act_fn) = layer\n",
    "            \n",
    "            a = a_layer_activation_output_lst[-ind]\n",
    "#             # derivate: map from function to function\n",
    "#             derivative_act_fn = map_derivative[act_fn]\n",
    "\n",
    "            # eq. (25)\n",
    "            W_next, act_fn_next = self.newtork[-ind + 1]\n",
    "            delta  = np.dot(W.transpose(), delta) * derivative_act_fn(a) # is this or next a?!\n",
    "            \n",
    "            W = W - eta * delta\n",
    "            \n",
    "            #prepend delta to the list\n",
    "            delta_lst = [delta] + delta_lst\n",
    "            \n",
    "          \n",
    "    def train(self, x, y, learning_rate):\n",
    "        # Traditional SGD update on one sample at a time\n",
    "        grads = self.grad_loss(x, y)\n",
    "        self.W_h = self.W_h - learning_rate * grads[\"W_h\"]\n",
    "        self.b_h = self.b_h - learning_rate * grads[\"b_h\"]\n",
    "        self.W_o = self.W_o - learning_rate * grads[\"W_o\"]\n",
    "        self.b_o = self.b_o - learning_rate * grads[\"b_o\"]\n",
    "\n",
    "    def predict(self, X):\n",
    "        if len(X.shape) == 1:\n",
    "            return np.argmax(self.forward(X))\n",
    "        else:\n",
    "            return np.argmax(self.forward(X), axis=1)\n",
    "\n",
    "    def accuracy(self, X, y):\n",
    "        y_preds = np.argmax(self.forward(X), axis=1)\n",
    "        return np.mean(y_preds == y)\n"
   ]
  },
  {
   "cell_type": "code",
   "execution_count": 69,
   "metadata": {},
   "outputs": [
    {
     "name": "stdout",
     "output_type": "stream",
     "text": [
      "test: 64 1 -0.01 0.01\n",
      "test: 64 1 -0.01 0.01\n",
      "test: 64 1 -0.01 0.01\n"
     ]
    }
   ],
   "source": [
    "init_distribution = (-0.01, 0.01)\n",
    "\n",
    "layers_specs = [(1, 64, act_fn, init_distribution), \n",
    "                (64, 10, act_fn, init_distribution),\n",
    "                (10, 1, act_fn, init_distribution),\n",
    "                ]\n",
    "\n",
    "\n",
    "nn = NeuralNetMultiLayer(layers_specs=layers_specs)"
   ]
  },
  {
   "cell_type": "code",
   "execution_count": null,
   "metadata": {},
   "outputs": [],
   "source": []
  },
  {
   "cell_type": "code",
   "execution_count": 95,
   "metadata": {},
   "outputs": [
    {
     "name": "stdout",
     "output_type": "stream",
     "text": [
      "Epoch 1/20\n",
      "1000/1000 [==============================] - 0s 88us/step - loss: 2.3892 - accuracy: 0.1030\n",
      "Epoch 2/20\n",
      "1000/1000 [==============================] - 0s 9us/step - loss: 2.3497 - accuracy: 0.0930\n",
      "Epoch 3/20\n",
      "1000/1000 [==============================] - 0s 16us/step - loss: 2.3289 - accuracy: 0.1100\n",
      "Epoch 4/20\n",
      "1000/1000 [==============================] - 0s 18us/step - loss: 2.3189 - accuracy: 0.1090\n",
      "Epoch 5/20\n",
      "1000/1000 [==============================] - 0s 20us/step - loss: 2.3040 - accuracy: 0.1080\n",
      "Epoch 6/20\n",
      "1000/1000 [==============================] - 0s 18us/step - loss: 2.3056 - accuracy: 0.1220\n",
      "Epoch 7/20\n",
      "1000/1000 [==============================] - 0s 21us/step - loss: 2.3071 - accuracy: 0.0900\n",
      "Epoch 8/20\n",
      "1000/1000 [==============================] - 0s 22us/step - loss: 2.3137 - accuracy: 0.1080\n",
      "Epoch 9/20\n",
      "1000/1000 [==============================] - 0s 22us/step - loss: 2.2984 - accuracy: 0.1030\n",
      "Epoch 10/20\n",
      "1000/1000 [==============================] - 0s 14us/step - loss: 2.3029 - accuracy: 0.1210\n",
      "Epoch 11/20\n",
      "1000/1000 [==============================] - 0s 25us/step - loss: 2.3001 - accuracy: 0.1110\n",
      "Epoch 12/20\n",
      "1000/1000 [==============================] - 0s 17us/step - loss: 2.3036 - accuracy: 0.1020\n",
      "Epoch 13/20\n",
      "1000/1000 [==============================] - 0s 18us/step - loss: 2.2986 - accuracy: 0.1220\n",
      "Epoch 14/20\n",
      "1000/1000 [==============================] - 0s 20us/step - loss: 2.3004 - accuracy: 0.1230\n",
      "Epoch 15/20\n",
      "1000/1000 [==============================] - 0s 19us/step - loss: 2.3027 - accuracy: 0.1210\n",
      "Epoch 16/20\n",
      "1000/1000 [==============================] - 0s 18us/step - loss: 2.3026 - accuracy: 0.1150\n",
      "Epoch 17/20\n",
      "1000/1000 [==============================] - 0s 18us/step - loss: 2.2991 - accuracy: 0.1090\n",
      "Epoch 18/20\n",
      "1000/1000 [==============================] - 0s 20us/step - loss: 2.2989 - accuracy: 0.1190\n",
      "Epoch 19/20\n",
      "1000/1000 [==============================] - 0s 16us/step - loss: 2.2993 - accuracy: 0.1160\n",
      "Epoch 20/20\n",
      "1000/1000 [==============================] - 0s 20us/step - loss: 2.3014 - accuracy: 0.1070\n",
      "100/100 [==============================] - 0s 467us/step\n"
     ]
    }
   ],
   "source": [
    "import keras\n",
    "from keras.models import Sequential\n",
    "from keras.layers import Dense, Dropout, Activation\n",
    "from keras.optimizers import SGD\n",
    "\n",
    "# Generate dummy data\n",
    "import numpy as np\n",
    "x_train = np.random.random((1000, 20))\n",
    "y_train = keras.utils.to_categorical(np.random.randint(10, size=(1000, 1)), num_classes=10)\n",
    "x_test = np.random.random((100, 20))\n",
    "y_test = keras.utils.to_categorical(np.random.randint(10, size=(100, 1)), num_classes=10)\n",
    "\n",
    "model = Sequential()\n",
    "# Dense(64) is a fully-connected layer with 64 hidden units.\n",
    "# in the first layer, you must specify the expected input data shape:\n",
    "# here, 20-dimensional vectors.\n",
    "model.add(Dense(64, activation='relu', input_dim=20))\n",
    "model.add(Dropout(0.5))\n",
    "model.add(Dense(64, activation='relu'))\n",
    "model.add(Dropout(0.5))\n",
    "model.add(Dense(10, activation='softmax'))\n",
    "\n",
    "sgd = SGD(lr=0.01, decay=1e-6, momentum=0.9, nesterov=True)\n",
    "model.compile(loss='categorical_crossentropy',\n",
    "              optimizer=sgd,\n",
    "              metrics=['accuracy'])\n",
    "\n",
    "model.fit(x_train, y_train,\n",
    "          epochs=20,\n",
    "          batch_size=128)\n",
    "score = model.evaluate(x_test, y_test, batch_size=128)"
   ]
  },
  {
   "cell_type": "code",
   "execution_count": 96,
   "metadata": {},
   "outputs": [
    {
     "name": "stdout",
     "output_type": "stream",
     "text": [
      "Epoch 1/20\n",
      "1000/1000 [==============================] - 0s 134us/step - loss: 0.7238 - accuracy: 0.5000\n",
      "Epoch 2/20\n",
      "1000/1000 [==============================] - 0s 11us/step - loss: 0.7173 - accuracy: 0.4880\n",
      "Epoch 3/20\n",
      "1000/1000 [==============================] - 0s 16us/step - loss: 0.7059 - accuracy: 0.5100\n",
      "Epoch 4/20\n",
      "1000/1000 [==============================] - 0s 16us/step - loss: 0.7027 - accuracy: 0.5010\n",
      "Epoch 5/20\n",
      "1000/1000 [==============================] - 0s 22us/step - loss: 0.6909 - accuracy: 0.5270\n",
      "Epoch 6/20\n",
      "1000/1000 [==============================] - 0s 18us/step - loss: 0.6995 - accuracy: 0.5290\n",
      "Epoch 7/20\n",
      "1000/1000 [==============================] - 0s 22us/step - loss: 0.6973 - accuracy: 0.5210\n",
      "Epoch 8/20\n",
      "1000/1000 [==============================] - 0s 17us/step - loss: 0.6934 - accuracy: 0.5440\n",
      "Epoch 9/20\n",
      "1000/1000 [==============================] - 0s 23us/step - loss: 0.6933 - accuracy: 0.5290\n",
      "Epoch 10/20\n",
      "1000/1000 [==============================] - 0s 21us/step - loss: 0.6978 - accuracy: 0.5210\n",
      "Epoch 11/20\n",
      "1000/1000 [==============================] - 0s 20us/step - loss: 0.6959 - accuracy: 0.5110\n",
      "Epoch 12/20\n",
      "1000/1000 [==============================] - 0s 22us/step - loss: 0.6964 - accuracy: 0.5080\n",
      "Epoch 13/20\n",
      "1000/1000 [==============================] - 0s 21us/step - loss: 0.6922 - accuracy: 0.5250\n",
      "Epoch 14/20\n",
      "1000/1000 [==============================] - 0s 21us/step - loss: 0.6985 - accuracy: 0.5050\n",
      "Epoch 15/20\n",
      "1000/1000 [==============================] - 0s 18us/step - loss: 0.6964 - accuracy: 0.5260\n",
      "Epoch 16/20\n",
      "1000/1000 [==============================] - 0s 20us/step - loss: 0.6895 - accuracy: 0.5330\n",
      "Epoch 17/20\n",
      "1000/1000 [==============================] - 0s 19us/step - loss: 0.6863 - accuracy: 0.5420\n",
      "Epoch 18/20\n",
      "1000/1000 [==============================] - 0s 18us/step - loss: 0.6934 - accuracy: 0.5400\n",
      "Epoch 19/20\n",
      "1000/1000 [==============================] - 0s 18us/step - loss: 0.6877 - accuracy: 0.5310\n",
      "Epoch 20/20\n",
      "1000/1000 [==============================] - 0s 16us/step - loss: 0.6920 - accuracy: 0.5410\n",
      "100/100 [==============================] - 0s 662us/step\n"
     ]
    }
   ],
   "source": [
    "import numpy as np\n",
    "from keras.models import Sequential\n",
    "from keras.layers import Dense, Dropout\n",
    "\n",
    "# Generate dummy data\n",
    "x_train = np.random.random((1000, 20))\n",
    "y_train = np.random.randint(2, size=(1000, 1))\n",
    "x_test = np.random.random((100, 20))\n",
    "y_test = np.random.randint(2, size=(100, 1))\n",
    "\n",
    "model = Sequential()\n",
    "model.add(Dense(64, input_dim=20, activation='relu'))\n",
    "model.add(Dropout(0.5))\n",
    "model.add(Dense(64, activation='relu'))\n",
    "model.add(Dropout(0.5))\n",
    "model.add(Dense(1, activation='sigmoid'))\n",
    "\n",
    "model.compile(loss='binary_crossentropy',\n",
    "              optimizer='rmsprop',\n",
    "              metrics=['accuracy'])\n",
    "\n",
    "model.fit(x_train, y_train,\n",
    "          epochs=20,\n",
    "          batch_size=128)\n",
    "score = model.evaluate(x_test, y_test, batch_size=128)"
   ]
  },
  {
   "cell_type": "code",
   "execution_count": null,
   "metadata": {},
   "outputs": [],
   "source": []
  },
  {
   "cell_type": "code",
   "execution_count": null,
   "metadata": {},
   "outputs": [],
   "source": []
  },
  {
   "cell_type": "code",
   "execution_count": 86,
   "metadata": {},
   "outputs": [],
   "source": [
    "n_hidden = 10\n",
    "model = NeuralNet(n_features, n_hidden, n_classes)"
   ]
  },
  {
   "cell_type": "code",
   "execution_count": null,
   "metadata": {},
   "outputs": [],
   "source": []
  },
  {
   "cell_type": "code",
   "execution_count": 87,
   "metadata": {},
   "outputs": [
    {
     "data": {
      "text/plain": [
       "2.302637154553694"
      ]
     },
     "execution_count": 87,
     "metadata": {},
     "output_type": "execute_result"
    }
   ],
   "source": [
    "model.loss(X_train, y_train)"
   ]
  },
  {
   "cell_type": "code",
   "execution_count": 88,
   "metadata": {},
   "outputs": [
    {
     "data": {
      "text/plain": [
       "0.10150622134905042"
      ]
     },
     "execution_count": 88,
     "metadata": {},
     "output_type": "execute_result"
    }
   ],
   "source": [
    "model.accuracy(X_train, y_train)"
   ]
  },
  {
   "cell_type": "code",
   "execution_count": 89,
   "metadata": {},
   "outputs": [
    {
     "data": {
      "image/png": "[encoded data removed]",
      "text/plain": [
       "<Figure size 720x288 with 2 Axes>"
      ]
     },
     "metadata": {
      "needs_background": "light"
     },
     "output_type": "display_data"
    }
   ],
   "source": [
    "plot_prediction(model, sample_idx=5)"
   ]
  },
  {
   "cell_type": "code",
   "execution_count": 90,
   "metadata": {},
   "outputs": [
    {
     "name": "stdout",
     "output_type": "stream",
     "text": [
      "Random init: train loss: 2.30264, train acc: 0.102, test acc: 0.096\n",
      "Epoch #1, train loss: 0.38874, train acc: 0.898, test acc: 0.848\n",
      "Epoch #2, train loss: 0.17554, train acc: 0.958, test acc: 0.922\n",
      "Epoch #3, train loss: 0.11901, train acc: 0.974, test acc: 0.941\n",
      "Epoch #4, train loss: 0.10710, train acc: 0.972, test acc: 0.930\n",
      "Epoch #5, train loss: 0.07160, train acc: 0.985, test acc: 0.944\n",
      "Epoch #6, train loss: 0.06139, train acc: 0.986, test acc: 0.944\n",
      "Epoch #7, train loss: 0.04907, train acc: 0.991, test acc: 0.956\n",
      "Epoch #8, train loss: 0.04253, train acc: 0.993, test acc: 0.959\n",
      "Epoch #9, train loss: 0.03675, train acc: 0.993, test acc: 0.967\n",
      "Epoch #10, train loss: 0.03185, train acc: 0.995, test acc: 0.963\n",
      "Epoch #11, train loss: 0.02834, train acc: 0.995, test acc: 0.963\n",
      "Epoch #12, train loss: 0.02542, train acc: 0.997, test acc: 0.963\n",
      "Epoch #13, train loss: 0.02298, train acc: 0.997, test acc: 0.963\n",
      "Epoch #14, train loss: 0.02028, train acc: 0.998, test acc: 0.963\n",
      "Epoch #15, train loss: 0.01825, train acc: 0.998, test acc: 0.970\n"
     ]
    }
   ],
   "source": [
    "losses, accuracies, accuracies_test = [], [], []\n",
    "losses.append(model.loss(X_train, y_train))\n",
    "accuracies.append(model.accuracy(X_train, y_train))\n",
    "accuracies_test.append(model.accuracy(X_test, y_test))\n",
    "\n",
    "print(\"Random init: train loss: %0.5f, train acc: %0.3f, test acc: %0.3f\"\n",
    "      % (losses[-1], accuracies[-1], accuracies_test[-1]))\n",
    "\n",
    "for epoch in range(15):\n",
    "    for i, (x, y) in enumerate(zip(X_train, y_train)):\n",
    "        model.train(x, y, 0.1)\n",
    "\n",
    "    losses.append(model.loss(X_train, y_train))\n",
    "    accuracies.append(model.accuracy(X_train, y_train))\n",
    "    accuracies_test.append(model.accuracy(X_test, y_test))\n",
    "    print(\"Epoch #%d, train loss: %0.5f, train acc: %0.3f, test acc: %0.3f\"\n",
    "          % (epoch + 1, losses[-1], accuracies[-1], accuracies_test[-1]))"
   ]
  },
  {
   "cell_type": "code",
   "execution_count": 91,
   "metadata": {},
   "outputs": [
    {
     "data": {
      "image/png": "[encoded data removed]",
      "text/plain": [
       "<Figure size 432x288 with 1 Axes>"
      ]
     },
     "metadata": {
      "needs_background": "light"
     },
     "output_type": "display_data"
    }
   ],
   "source": [
    "plt.plot(losses)\n",
    "plt.title(\"Training loss\");"
   ]
  },
  {
   "cell_type": "code",
   "execution_count": 92,
   "metadata": {},
   "outputs": [
    {
     "data": {
      "image/png": "[encoded data removed]",
      "text/plain": [
       "<Figure size 432x288 with 1 Axes>"
      ]
     },
     "metadata": {
      "needs_background": "light"
     },
     "output_type": "display_data"
    }
   ],
   "source": [
    "plt.plot(accuracies, label='train')\n",
    "plt.plot(accuracies_test, label='test')\n",
    "plt.ylim(0, 1.1)\n",
    "plt.ylabel(\"accuracy\")\n",
    "plt.legend(loc='best');"
   ]
  },
  {
   "cell_type": "code",
   "execution_count": 93,
   "metadata": {},
   "outputs": [
    {
     "data": {
      "image/png": "[encoded data removed]",
      "text/plain": [
       "<Figure size 720x288 with 2 Axes>"
      ]
     },
     "metadata": {
      "needs_background": "light"
     },
     "output_type": "display_data"
    }
   ],
   "source": [
    "plot_prediction(model, sample_idx=4)"
   ]
  },
  {
   "cell_type": "markdown",
   "metadata": {},
   "source": [
    "## c) Exercises\n",
    "\n",
    "### Look at worst prediction errors\n",
    "\n",
    "- Use numpy to find test samples for which the model made the worst predictions,\n",
    "- Use the `plot_prediction` to look at the model predictions on those,\n",
    "- Would you have done any better?"
   ]
  },
  {
   "cell_type": "code",
   "execution_count": 45,
   "metadata": {},
   "outputs": [
    {
     "name": "stdout",
     "output_type": "stream",
     "text": [
      "test losses: [2.12547038 2.55792136 2.65284669 6.8444542  7.39563707]\n"
     ]
    },
    {
     "data": {
      "image/png": "[encoded data removed]",
      "text/plain": [
       "<Figure size 720x288 with 2 Axes>"
      ]
     },
     "metadata": {},
     "output_type": "display_data"
    },
    {
     "data": {
      "image/png": "[encoded data removed]",
      "text/plain": [
       "<Figure size 720x288 with 2 Axes>"
      ]
     },
     "metadata": {},
     "output_type": "display_data"
    },
    {
     "data": {
      "image/png": "[encoded data removed]",
      "text/plain": [
       "<Figure size 720x288 with 2 Axes>"
      ]
     },
     "metadata": {},
     "output_type": "display_data"
    },
    {
     "data": {
      "image/png": "[encoded data removed]",
      "text/plain": [
       "<Figure size 720x288 with 2 Axes>"
      ]
     },
     "metadata": {},
     "output_type": "display_data"
    },
    {
     "data": {
      "image/png": "[encoded data removed]",
      "text/plain": [
       "<Figure size 720x288 with 2 Axes>"
      ]
     },
     "metadata": {},
     "output_type": "display_data"
    }
   ],
   "source": [
    "# %load solutions/worst_predictions.py"
   ]
  },
  {
   "cell_type": "markdown",
   "metadata": {},
   "source": [
    "### Hyper parameters settings\n",
    "\n",
    "- Experiment with different hyper parameters:\n",
    "  - learning rate,\n",
    "  - size of hidden layer,\n",
    "  - initialization scheme: test with 0 initialization vs uniform,\n",
    "  - implement other activation functions,\n",
    "  - implement the support for a second hidden layer.\n",
    "\n",
    "\n",
    "### Mini-batches\n",
    "\n",
    "- The current implementations of `train` and `grad_loss` function currently only accept a single sample at a time:\n",
    "    - implement the support for training with a mini-batch of 32 samples at a time instead of one,\n",
    "    - experiment with different sizes of batches,\n",
    "    - monitor the norm of the average gradients on the full training set at the end of each epoch.\n",
    "\n",
    "\n",
    "### Momentum\n",
    "\n",
    "- Bonus: Implement momentum\n",
    "\n",
    "\n",
    "### Back to Keras\n",
    "\n",
    "- Implement the same network architecture with Keras;\n",
    "\n",
    "- Check that the Keras model can approximately reproduce the behavior of the Numpy model when using similar hyperparameter values (size of the model, type of activations, learning rate value and use of momentum);\n",
    "\n",
    "- Compute the negative log likelihood of a sample 42 in the test set (can use `model.predict_proba`);\n",
    "\n",
    "- Compute the average negative log-likelihood on the full test set.\n",
    "\n",
    "- Compute the average negative log-likelihood  on the full training set and check that you can get the value of the loss reported by Keras.\n",
    "\n",
    "- Is the model overfitting or underfitting? (ensure that the model has fully converged by increasing the number of epochs to 50 or more if necessary)."
   ]
  },
  {
   "cell_type": "code",
   "execution_count": null,
   "metadata": {},
   "outputs": [],
   "source": []
  },
  {
   "cell_type": "code",
   "execution_count": null,
   "metadata": {},
   "outputs": [],
   "source": [
    "# %load solutions/keras_model.py"
   ]
  },
  {
   "cell_type": "code",
   "execution_count": null,
   "metadata": {},
   "outputs": [],
   "source": [
    "# %load solutions/keras_model_test_loss.py"
   ]
  },
  {
   "cell_type": "markdown",
   "metadata": {},
   "source": [
    "## Homework assignments\n",
    "\n",
    "- Watch the following video on [how to code a minimal deep learning framework](https://www.youtube.com/watch?v=o64FV-ez6Gw) that feels like a simplified version\n",
    "of Keras but using numpy instead of tensorflow:"
   ]
  },
  {
   "cell_type": "code",
   "execution_count": null,
   "metadata": {},
   "outputs": [],
   "source": [
    "from IPython.display import YouTubeVideo\n",
    "YouTubeVideo(\"o64FV-ez6Gw\")"
   ]
  },
  {
   "cell_type": "markdown",
   "metadata": {},
   "source": [
    "- **Optional**: read the following blog post on Reverse-Mode Automatic Differentiation from start to section \"A simple implementation in Python\" included:\n",
    "\n",
    "  https://rufflewind.com/2016-12-30/reverse-mode-automatic-differentiation"
   ]
  }
 ],
 "metadata": {
  "kernelspec": {
   "display_name": "Python 3",
   "language": "python",
   "name": "python3"
  },
  "language_info": {
   "codemirror_mode": {
    "name": "ipython",
    "version": 3
   },
   "file_extension": ".py",
   "mimetype": "text/x-python",
   "name": "python",
   "nbconvert_exporter": "python",
   "pygments_lexer": "ipython3",
   "version": "3.7.5"
  }
 },
 "nbformat": 4,
 "nbformat_minor": 2
}
